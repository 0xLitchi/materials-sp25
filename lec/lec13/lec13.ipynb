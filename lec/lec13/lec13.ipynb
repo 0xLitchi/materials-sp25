{
 "cells": [
  {
   "cell_type": "code",
   "execution_count": 3,
   "metadata": {},
   "outputs": [],
   "source": [
    "from datascience import *\n",
    "%matplotlib inline\n",
    "\n",
    "import matplotlib.pyplot as plt\n",
    "plt.style.use('fivethirtyeight')\n",
    "import numpy as np\n",
    "import warnings\n",
    "warnings.simplefilter(action='ignore', category=np.VisibleDeprecationWarning)"
   ]
  },
  {
   "cell_type": "markdown",
   "metadata": {},
   "source": [
    "## Review"
   ]
  },
  {
   "cell_type": "code",
   "execution_count": null,
   "metadata": {},
   "outputs": [],
   "source": [
    "def sign(x):\n",
    "    \"\"\"determines the sign (+/-) of a numeric input\"\"\"\n",
    "    if x > 0:\n",
    "        return 'Positive'\n",
    "    \n",
    "    elif x < 0:\n",
    "        return 'Negative'\n",
    "    \n",
    "    elif x = 0:\n",
    "        return 'Neither positive nor negative'"
   ]
  },
  {
   "cell_type": "markdown",
   "metadata": {},
   "source": [
    "## New material"
   ]
  },
  {
   "cell_type": "markdown",
   "metadata": {},
   "source": [
    "### Probability Questions 1-4"
   ]
  },
  {
   "cell_type": "markdown",
   "metadata": {},
   "source": [
    "### The Monty Hall Problem is great to simulate! ###"
   ]
  },
  {
   "cell_type": "code",
   "execution_count": null,
   "metadata": {},
   "outputs": [],
   "source": [
    "goats = make_array('first goat', 'second goat')\n",
    "doors = make_array('car', 'first goat', 'second goat')\n",
    "doors"
   ]
  },
  {
   "cell_type": "markdown",
   "metadata": {},
   "source": [
    "First, we'll define a function that determines which goat is revealed."
   ]
  },
  {
   "cell_type": "code",
   "execution_count": null,
   "metadata": {},
   "outputs": [],
   "source": [
    "def other_goat(x):\n",
    "    if x == 'first goat':\n",
    "        return 'second goat'\n",
    "    elif x == 'second goat':\n",
    "        return 'first goat'"
   ]
  },
  {
   "cell_type": "code",
   "execution_count": null,
   "metadata": {},
   "outputs": [],
   "source": [
    "make_array(other_goat('first goat'), other_goat('second goat'))"
   ]
  },
  {
   "cell_type": "code",
   "execution_count": null,
   "metadata": {},
   "outputs": [],
   "source": [
    "def monty_hall():\n",
    "    \"\"\"Return \n",
    "    [contestant's guess, what Monty reveals, \n",
    "    what remains behind the other door]\"\"\"\n",
    "    \n",
    "    #Contest randonmlychooses one of the three doors\n",
    "    contestant_choice = np.random.choice(doors)\n",
    "\n",
    "    #Scenario #1 - Contest chooses the first goat\n",
    "    if contestant_choice == 'first goat':\n",
    "        monty_choice = 'second goat'\n",
    "        remaining_choice = 'car'\n",
    "        \n",
    "    #Scenario #2 - Content chooses the second goat\n",
    "    if contestant_choice == 'second goat':\n",
    "        monty_choice = 'first goat'\n",
    "        remaining_choice = 'car'\n",
    "    \n",
    "   #Scenario #3 - Contestant chooses the car\n",
    "    if contestant_choice == 'car':\n",
    "        monty_choice = np.random.choice(goats)\n",
    "        remaining_choice = other_goat(monty_choice)\n",
    "        \n",
    "    return make_array(contestant_choice, monty_choice, remaining_choice)"
   ]
  },
  {
   "cell_type": "code",
   "execution_count": null,
   "metadata": {},
   "outputs": [],
   "source": [
    "monty_hall()"
   ]
  },
  {
   "cell_type": "code",
   "execution_count": null,
   "metadata": {},
   "outputs": [],
   "source": [
    "results = Table(make_array(\"Contestant's Choice\", \"Monty's Choice\", 'Remaining'))\n",
    "\n",
    "for i in np.arange(10000):\n",
    "    results.append(monty_hall())\n"
   ]
  },
  {
   "cell_type": "code",
   "execution_count": null,
   "metadata": {},
   "outputs": [],
   "source": [
    "results.show(3)"
   ]
  },
  {
   "cell_type": "code",
   "execution_count": null,
   "metadata": {},
   "outputs": [],
   "source": [
    "results.group(\"Contestant's Choice\").barh(\"Contestant's Choice\")"
   ]
  },
  {
   "cell_type": "code",
   "execution_count": null,
   "metadata": {},
   "outputs": [],
   "source": [
    "results.group('Remaining').barh('Remaining')"
   ]
  },
  {
   "cell_type": "markdown",
   "metadata": {},
   "source": [
    "______"
   ]
  },
  {
   "cell_type": "markdown",
   "metadata": {
    "jp-MarkdownHeadingCollapsed": true
   },
   "source": [
    "### Challenge Task: Demo for Questions 1 and 2"
   ]
  },
  {
   "cell_type": "code",
   "execution_count": 6,
   "metadata": {},
   "outputs": [
    {
     "data": {
      "text/plain": [
       "array(['A', 'K', 'Q'],\n",
       "      dtype='<U1')"
      ]
     },
     "execution_count": 6,
     "metadata": {},
     "output_type": "execute_result"
    }
   ],
   "source": [
    "cards = make_array('A', 'K', 'Q')\n",
    "cards"
   ]
  },
  {
   "cell_type": "code",
   "execution_count": null,
   "metadata": {},
   "outputs": [],
   "source": [
    "np.random.choice(cards, 2, replace=False)"
   ]
  },
  {
   "cell_type": "markdown",
   "metadata": {},
   "source": [
    "You could have also made an array of size six and drawn from this six times."
   ]
  },
  {
   "cell_type": "code",
   "execution_count": 4,
   "metadata": {},
   "outputs": [],
   "source": [
    "#Defining a function to simulate the game\n",
    "def three_card_game():\n",
    "    two_cards_drawn = np.random.choice(cards, 2, replace=False)\n",
    "    return make_array(two_cards_drawn.item(0), two_cards_drawn.item(1))"
   ]
  },
  {
   "cell_type": "code",
   "execution_count": 7,
   "metadata": {},
   "outputs": [
    {
     "data": {
      "text/plain": [
       "array(['A', 'Q'],\n",
       "      dtype='<U1')"
      ]
     },
     "execution_count": 7,
     "metadata": {},
     "output_type": "execute_result"
    }
   ],
   "source": [
    "three_card_game()"
   ]
  },
  {
   "cell_type": "code",
   "execution_count": 8,
   "metadata": {},
   "outputs": [
    {
     "data": {
      "text/html": [
       "<table border=\"1\" class=\"dataframe\">\n",
       "    <thead>\n",
       "        <tr>\n",
       "            <th>First Card</th> <th>Second Card</th>\n",
       "        </tr>\n",
       "    </thead>\n",
       "    <tbody>\n",
       "    </tbody>\n",
       "</table>"
      ],
      "text/plain": [
       "First Card | Second Card"
      ]
     },
     "execution_count": 8,
     "metadata": {},
     "output_type": "execute_result"
    }
   ],
   "source": [
    "results = Table(make_array('First Card', 'Second Card'))\n",
    "results"
   ]
  },
  {
   "cell_type": "markdown",
   "metadata": {},
   "source": [
    "Repeat the simulation 10,000 times."
   ]
  },
  {
   "cell_type": "code",
   "execution_count": 9,
   "metadata": {},
   "outputs": [
    {
     "data": {
      "text/html": [
       "<table border=\"1\" class=\"dataframe\">\n",
       "    <thead>\n",
       "        <tr>\n",
       "            <th>First Card</th> <th>Second Card</th>\n",
       "        </tr>\n",
       "    </thead>\n",
       "    <tbody>\n",
       "        <tr>\n",
       "            <td>A         </td> <td>K          </td>\n",
       "        </tr>\n",
       "        <tr>\n",
       "            <td>A         </td> <td>Q          </td>\n",
       "        </tr>\n",
       "        <tr>\n",
       "            <td>A         </td> <td>Q          </td>\n",
       "        </tr>\n",
       "        <tr>\n",
       "            <td>Q         </td> <td>A          </td>\n",
       "        </tr>\n",
       "        <tr>\n",
       "            <td>Q         </td> <td>A          </td>\n",
       "        </tr>\n",
       "    </tbody>\n",
       "</table>\n",
       "<p>... (9995 rows omitted)</p>"
      ],
      "text/plain": [
       "<IPython.core.display.HTML object>"
      ]
     },
     "metadata": {},
     "output_type": "display_data"
    }
   ],
   "source": [
    "for i in np.arange(10000):\n",
    "    results.append(three_card_game())\n",
    "results.show(5)"
   ]
  },
  {
   "cell_type": "markdown",
   "metadata": {},
   "source": [
    "Getting the count of each unique 2 card combinations from the simulations"
   ]
  },
  {
   "cell_type": "code",
   "execution_count": null,
   "metadata": {},
   "outputs": [],
   "source": [
    "results_grouped = results.group(make_array('First Card','Second Card'))\n",
    "results_grouped"
   ]
  },
  {
   "cell_type": "markdown",
   "metadata": {},
   "source": [
    "Let's see if the number of unique combinations is what we wrote above."
   ]
  },
  {
   "cell_type": "code",
   "execution_count": null,
   "metadata": {},
   "outputs": [],
   "source": [
    "unique_combinations = results_grouped.num_rows\n",
    "unique_combinations"
   ]
  },
  {
   "cell_type": "markdown",
   "metadata": {},
   "source": [
    "How many times each combination appeared"
   ]
  },
  {
   "cell_type": "code",
   "execution_count": null,
   "metadata": {},
   "outputs": [],
   "source": [
    "card_counts = results_grouped.column('count')"
   ]
  },
  {
   "cell_type": "markdown",
   "metadata": {},
   "source": [
    "How many total simulations were conducted\n"
   ]
  },
  {
   "cell_type": "code",
   "execution_count": null,
   "metadata": {},
   "outputs": [],
   "source": [
    "total_simulations = sum(results_grouped.column('count'))"
   ]
  },
  {
   "cell_type": "markdown",
   "metadata": {},
   "source": [
    "Updating the table to contain the proportion of times each combination appeared"
   ]
  },
  {
   "cell_type": "code",
   "execution_count": null,
   "metadata": {},
   "outputs": [],
   "source": [
    "results_grouped = results_grouped.with_column('Proportion',(card_counts/total_simulations))\n",
    "results_grouped"
   ]
  },
  {
   "cell_type": "markdown",
   "metadata": {},
   "source": [
    "This justifies our earlier calculations. The proportion of $\\{Q, K\\}$ is approximately $\\frac{1}{6}$, and the combined proportion of either $\\{Q, K\\}$ or  $\\{K, Q\\}$ is $\\frac{2}{6} = \\frac{1}{3}$."
   ]
  }
 ],
 "metadata": {
  "kernelspec": {
   "display_name": "Python 3 (ipykernel)",
   "language": "python",
   "name": "python3"
  },
  "language_info": {
   "codemirror_mode": {
    "name": "ipython",
    "version": 3
   },
   "file_extension": ".py",
   "mimetype": "text/x-python",
   "name": "python",
   "nbconvert_exporter": "python",
   "pygments_lexer": "ipython3",
   "version": "3.12.4"
  }
 },
 "nbformat": 4,
 "nbformat_minor": 4
}
