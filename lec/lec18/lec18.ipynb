{
 "cells": [
  {
   "cell_type": "code",
   "execution_count": 2,
   "id": "4ac7b002-ba6a-44f1-84a1-85aaee35a212",
   "metadata": {},
   "outputs": [],
   "source": [
    "from datascience import *\n",
    "import numpy as np\n",
    "\n",
    "%matplotlib inline\n",
    "import matplotlib.pyplot as plots\n",
    "plots.style.use('fivethirtyeight')\n",
    "\n",
    "import warnings\n",
    "warnings.simplefilter(\"ignore\")"
   ]
  },
  {
   "cell_type": "markdown",
   "id": "b0593871-2e05-4585-997b-f52566c8d9fb",
   "metadata": {},
   "source": [
    "## Review"
   ]
  },
  {
   "cell_type": "markdown",
   "id": "d35a9fc4-ea84-47f5-bfbf-8056071a32b3",
   "metadata": {},
   "source": [
    "Review in slides."
   ]
  },
  {
   "cell_type": "markdown",
   "id": "880d2835-cbc4-470a-a397-3451882793d1",
   "metadata": {},
   "source": [
    "## New material"
   ]
  },
  {
   "cell_type": "markdown",
   "id": "9872fbe5-97cb-45dc-a32b-506c39020b95",
   "metadata": {},
   "source": [
    "### Case study: random sample of newborns"
   ]
  },
  {
   "cell_type": "code",
   "execution_count": 4,
   "id": "ea00e32e-74cf-459f-88c9-ed9d95f0885d",
   "metadata": {},
   "outputs": [
    {
     "data": {
      "text/html": [
       "<table border=\"1\" class=\"dataframe\">\n",
       "    <thead>\n",
       "        <tr>\n",
       "            <th>Maternal Smoker</th> <th>Birth Weight</th>\n",
       "        </tr>\n",
       "    </thead>\n",
       "    <tbody>\n",
       "        <tr>\n",
       "            <td>False          </td> <td>120         </td>\n",
       "        </tr>\n",
       "        <tr>\n",
       "            <td>False          </td> <td>113         </td>\n",
       "        </tr>\n",
       "        <tr>\n",
       "            <td>True           </td> <td>128         </td>\n",
       "        </tr>\n",
       "        <tr>\n",
       "            <td>True           </td> <td>108         </td>\n",
       "        </tr>\n",
       "        <tr>\n",
       "            <td>False          </td> <td>136         </td>\n",
       "        </tr>\n",
       "    </tbody>\n",
       "</table>\n",
       "<p>... (1169 rows omitted)</p>"
      ],
      "text/plain": [
       "<IPython.core.display.HTML object>"
      ]
     },
     "metadata": {},
     "output_type": "display_data"
    }
   ],
   "source": [
    "births = Table.read_table('baby.csv')\n",
    "births.select('Maternal Smoker', \n",
    "              'Birth Weight').show(5)"
   ]
  },
  {
   "cell_type": "code",
   "execution_count": 5,
   "id": "3a945ebd-6c8d-4a3e-bcd4-11456561f99f",
   "metadata": {},
   "outputs": [
    {
     "data": {
      "text/html": [
       "<table border=\"1\" class=\"dataframe\">\n",
       "    <thead>\n",
       "        <tr>\n",
       "            <th>Maternal Smoker</th> <th>count</th>\n",
       "        </tr>\n",
       "    </thead>\n",
       "    <tbody>\n",
       "        <tr>\n",
       "            <td>False          </td> <td>715  </td>\n",
       "        </tr>\n",
       "        <tr>\n",
       "            <td>True           </td> <td>459  </td>\n",
       "        </tr>\n",
       "    </tbody>\n",
       "</table>"
      ],
      "text/plain": [
       "Maternal Smoker | count\n",
       "False           | 715\n",
       "True            | 459"
      ]
     },
     "execution_count": 5,
     "metadata": {},
     "output_type": "execute_result"
    }
   ],
   "source": [
    "births.select('Maternal Smoker', \n",
    "              'Birth Weight').group('Maternal Smoker')"
   ]
  },
  {
   "cell_type": "code",
   "execution_count": 6,
   "id": "b93cca67-fade-4b97-a07a-5daedebaeb3c",
   "metadata": {},
   "outputs": [
    {
     "data": {
      "text/html": [
       "<table border=\"1\" class=\"dataframe\">\n",
       "    <thead>\n",
       "        <tr>\n",
       "            <th>Maternal Smoker</th> <th>Birth Weight average</th>\n",
       "        </tr>\n",
       "    </thead>\n",
       "    <tbody>\n",
       "        <tr>\n",
       "            <td>False          </td> <td>123.085             </td>\n",
       "        </tr>\n",
       "        <tr>\n",
       "            <td>True           </td> <td>113.819             </td>\n",
       "        </tr>\n",
       "    </tbody>\n",
       "</table>"
      ],
      "text/plain": [
       "Maternal Smoker | Birth Weight average\n",
       "False           | 123.085\n",
       "True            | 113.819"
      ]
     },
     "execution_count": 6,
     "metadata": {},
     "output_type": "execute_result"
    }
   ],
   "source": [
    "means_table = births.select('Maternal Smoker', \n",
    "              'Birth Weight').group('Maternal Smoker',np.average)\n",
    "means_table"
   ]
  },
  {
   "cell_type": "code",
   "execution_count": 9,
   "id": "500ff8da-226a-46fe-9d9d-b9a04555fb9e",
   "metadata": {},
   "outputs": [
    {
     "data": {
      "image/png": "[encoded data removed]",
      "text/plain": [
       "<Figure size 600x400 with 1 Axes>"
      ]
     },
     "metadata": {},
     "output_type": "display_data"
    }
   ],
   "source": [
    "births.select('Maternal Smoker', \n",
    "              'Birth Weight').hist('Birth Weight', group='Maternal Smoker')"
   ]
  },
  {
   "cell_type": "markdown",
   "id": "714d6eb2-21a2-4253-b67e-c4c286cb5b70",
   "metadata": {},
   "source": [
    "____"
   ]
  },
  {
   "cell_type": "code",
   "execution_count": 10,
   "id": "423f0d17-aed4-45c4-aacc-be152385a30d",
   "metadata": {},
   "outputs": [
    {
     "data": {
      "text/plain": [
       "array([ 123.08531469,  113.81917211])"
      ]
     },
     "execution_count": 10,
     "metadata": {},
     "output_type": "execute_result"
    }
   ],
   "source": [
    "means_table.column(1)"
   ]
  },
  {
   "cell_type": "code",
   "execution_count": 11,
   "id": "d939f231-fabc-4f24-bd4c-9818d5667f67",
   "metadata": {},
   "outputs": [
    {
     "data": {
      "text/plain": [
       "-9.266142572024918"
      ]
     },
     "execution_count": 11,
     "metadata": {},
     "output_type": "execute_result"
    }
   ],
   "source": [
    "observed_difference = means_table.column(1).item(1)-means_table.column(1).item(0)\n",
    "observed_difference"
   ]
  },
  {
   "cell_type": "markdown",
   "id": "ae59b242-3aaa-4a45-ac69-b85c6b942191",
   "metadata": {},
   "source": [
    "### How should we simulate under the null?\n",
    "- By shuffling the group variable!"
   ]
  },
  {
   "cell_type": "code",
   "execution_count": 12,
   "id": "c2418d94-3ac7-4a7e-a53f-d92387f9f883",
   "metadata": {},
   "outputs": [
    {
     "data": {
      "text/html": [
       "<table border=\"1\" class=\"dataframe\">\n",
       "    <thead>\n",
       "        <tr>\n",
       "            <th>Maternal Smoker</th>\n",
       "        </tr>\n",
       "    </thead>\n",
       "    <tbody>\n",
       "        <tr>\n",
       "            <td>False          </td>\n",
       "        </tr>\n",
       "        <tr>\n",
       "            <td>False          </td>\n",
       "        </tr>\n",
       "        <tr>\n",
       "            <td>True           </td>\n",
       "        </tr>\n",
       "        <tr>\n",
       "            <td>True           </td>\n",
       "        </tr>\n",
       "        <tr>\n",
       "            <td>False          </td>\n",
       "        </tr>\n",
       "    </tbody>\n",
       "</table>\n",
       "<p>... (1169 rows omitted)</p>"
      ],
      "text/plain": [
       "<IPython.core.display.HTML object>"
      ]
     },
     "metadata": {},
     "output_type": "display_data"
    }
   ],
   "source": [
    "births.select('Maternal Smoker').show(5)"
   ]
  },
  {
   "cell_type": "code",
   "execution_count": 13,
   "id": "c6cb4d8b-e531-47db-a1c0-15a5b869884a",
   "metadata": {},
   "outputs": [
    {
     "data": {
      "text/html": [
       "<table border=\"1\" class=\"dataframe\">\n",
       "    <thead>\n",
       "        <tr>\n",
       "            <th>Maternal Smoker</th>\n",
       "        </tr>\n",
       "    </thead>\n",
       "    <tbody>\n",
       "        <tr>\n",
       "            <td>True           </td>\n",
       "        </tr>\n",
       "        <tr>\n",
       "            <td>False          </td>\n",
       "        </tr>\n",
       "        <tr>\n",
       "            <td>False          </td>\n",
       "        </tr>\n",
       "        <tr>\n",
       "            <td>True           </td>\n",
       "        </tr>\n",
       "        <tr>\n",
       "            <td>True           </td>\n",
       "        </tr>\n",
       "    </tbody>\n",
       "</table>\n",
       "<p>... (1169 rows omitted)</p>"
      ],
      "text/plain": [
       "<IPython.core.display.HTML object>"
      ]
     },
     "metadata": {},
     "output_type": "display_data"
    }
   ],
   "source": [
    "shuffled_group = births.select('Maternal Smoker').sample(with_replacement=False)\n",
    "shuffled_group.show(5)"
   ]
  },
  {
   "cell_type": "code",
   "execution_count": 14,
   "id": "175239a8-0264-4650-85cb-5f2bb34bf034",
   "metadata": {},
   "outputs": [
    {
     "data": {
      "text/html": [
       "<table border=\"1\" class=\"dataframe\">\n",
       "    <thead>\n",
       "        <tr>\n",
       "            <th>Shuffled Maternal Smoker</th> <th>Birth Weight</th>\n",
       "        </tr>\n",
       "    </thead>\n",
       "    <tbody>\n",
       "        <tr>\n",
       "            <td>True                    </td> <td>120         </td>\n",
       "        </tr>\n",
       "        <tr>\n",
       "            <td>False                   </td> <td>113         </td>\n",
       "        </tr>\n",
       "        <tr>\n",
       "            <td>False                   </td> <td>128         </td>\n",
       "        </tr>\n",
       "        <tr>\n",
       "            <td>True                    </td> <td>108         </td>\n",
       "        </tr>\n",
       "        <tr>\n",
       "            <td>True                    </td> <td>136         </td>\n",
       "        </tr>\n",
       "    </tbody>\n",
       "</table>\n",
       "<p>... (1169 rows omitted)</p>"
      ],
      "text/plain": [
       "<IPython.core.display.HTML object>"
      ]
     },
     "metadata": {},
     "output_type": "display_data"
    }
   ],
   "source": [
    "simulated_births = Table().with_columns('Shuffled Maternal Smoker', shuffled_group.column(0),\n",
    "                                        'Birth Weight', births.column('Birth Weight'))\n",
    "simulated_births.show(5)"
   ]
  },
  {
   "cell_type": "code",
   "execution_count": 15,
   "id": "100ff3d6-8968-4fa0-ba69-635770e69d9f",
   "metadata": {},
   "outputs": [
    {
     "data": {
      "text/html": [
       "<table border=\"1\" class=\"dataframe\">\n",
       "    <thead>\n",
       "        <tr>\n",
       "            <th>Shuffled Maternal Smoker</th> <th>Birth Weight average</th>\n",
       "        </tr>\n",
       "    </thead>\n",
       "    <tbody>\n",
       "        <tr>\n",
       "            <td>False                   </td> <td>119.235             </td>\n",
       "        </tr>\n",
       "        <tr>\n",
       "            <td>True                    </td> <td>119.817             </td>\n",
       "        </tr>\n",
       "    </tbody>\n",
       "</table>"
      ],
      "text/plain": [
       "Shuffled Maternal Smoker | Birth Weight average\n",
       "False                    | 119.235\n",
       "True                     | 119.817"
      ]
     },
     "execution_count": 15,
     "metadata": {},
     "output_type": "execute_result"
    }
   ],
   "source": [
    "simulated_births.group('Shuffled Maternal Smoker',np.average)"
   ]
  },
  {
   "cell_type": "code",
   "execution_count": 16,
   "id": "749d3bcc-e1cf-4253-91e0-2a7b270e0c2b",
   "metadata": {},
   "outputs": [
    {
     "data": {
      "text/plain": [
       "array([ 119.23496503,  119.81699346])"
      ]
     },
     "execution_count": 16,
     "metadata": {},
     "output_type": "execute_result"
    }
   ],
   "source": [
    "means_array = simulated_births.group('Shuffled Maternal Smoker',np.average).column(1)\n",
    "means_array"
   ]
  },
  {
   "cell_type": "code",
   "execution_count": 17,
   "id": "4222ad69-d740-4f1f-8ddb-f59db476a433",
   "metadata": {},
   "outputs": [
    {
     "data": {
      "text/plain": [
       "0.5820284290872593"
      ]
     },
     "execution_count": 17,
     "metadata": {},
     "output_type": "execute_result"
    }
   ],
   "source": [
    "means_array.item(1)-means_array.item(0)"
   ]
  },
  {
   "cell_type": "code",
   "execution_count": 19,
   "id": "149b7d1f-73f6-43df-b575-2607dc02740d",
   "metadata": {},
   "outputs": [],
   "source": [
    "def simulated_difference(table, group_label, numeric_label, function):\n",
    "    \"\"\"\n",
    "    Takes: \n",
    "       - name of table\n",
    "       - column label of numerical variable\n",
    "       - column label of categorical variable\n",
    "       - statistic to be calculated (as a function)\n",
    "       \n",
    "    Returns: Difference in statistics of the two groups\n",
    "    \"\"\"\n",
    "    shuffled_group = table.select(group_label).sample(with_replacement=False)\n",
    "    simulated_table = Table().with_columns(group_label, shuffled_group.column(0),\n",
    "                                        numeric_label, table.column(numeric_label))\n",
    "    \n",
    "    stats_array = simulated_table.group(group_label, function).column(1)\n",
    "    \n",
    "    \n",
    "    return stats_array.item(1)-stats_array.item(0)"
   ]
  },
  {
   "cell_type": "code",
   "execution_count": 23,
   "id": "bcfd58fb-456c-4076-94cd-6964fa440be1",
   "metadata": {},
   "outputs": [
    {
     "data": {
      "text/plain": [
       "-0.37667474138062573"
      ]
     },
     "execution_count": 23,
     "metadata": {},
     "output_type": "execute_result"
    }
   ],
   "source": [
    "simulated_difference(births, 'Maternal Smoker', 'Birth Weight', np.average)"
   ]
  },
  {
   "cell_type": "markdown",
   "id": "6fedbef4-b2e3-4a64-ba49-a4d4356d3d2b",
   "metadata": {},
   "source": [
    "**Discussion Task** [2 min]: \n",
    "- Simulate 2500 test statistics under the null hypothesis and save them into an array called `simulated_differences.`"
   ]
  },
  {
   "cell_type": "code",
   "execution_count": 26,
   "id": "8fb8d630-da65-4329-bf16-d0943cc238b3",
   "metadata": {},
   "outputs": [],
   "source": [
    "simulated_differences = make_array()\n",
    "simulations = 2500"
   ]
  },
  {
   "cell_type": "code",
   "execution_count": 27,
   "id": "01420f09-c5ca-4346-9a9c-9fa376305505",
   "metadata": {},
   "outputs": [],
   "source": [
    "for i in np.arange(simulations):\n",
    "    one_difference = simulated_difference(births, \n",
    "                                          'Maternal Smoker', \n",
    "                                          'Birth Weight', np.average)\n",
    "    simulated_differences = np.append(simulated_differences, one_difference)"
   ]
  },
  {
   "cell_type": "code",
   "execution_count": 28,
   "id": "d7a76857-1814-41e8-b8d0-dc6e88ceb10e",
   "metadata": {},
   "outputs": [
    {
     "data": {
      "text/plain": [
       "array([ 0.7143867 ,  1.2438198 , -0.97049835, ..., -1.02057986,\n",
       "       -1.60367171,  0.80024072])"
      ]
     },
     "execution_count": 28,
     "metadata": {},
     "output_type": "execute_result"
    }
   ],
   "source": [
    "simulated_differences"
   ]
  },
  {
   "cell_type": "code",
   "execution_count": 29,
   "id": "6048dd26-c57b-4a70-9906-653832f9ec0b",
   "metadata": {},
   "outputs": [
    {
     "name": "stdout",
     "output_type": "stream",
     "text": [
      "Our observed difference of -9.266142572024918 is far away from what we would expect under the null!\n"
     ]
    },
    {
     "data": {
      "image/png": "[encoded data removed]",
      "text/plain": [
       "<Figure size 600x400 with 1 Axes>"
      ]
     },
     "metadata": {},
     "output_type": "display_data"
    }
   ],
   "source": [
    "Table().with_column('Difference Between Group Means', \n",
    "                    simulated_differences).hist()\n",
    "plots.scatter(observed_difference, -0.001, color='red', s=30);\n",
    "print('Our observed difference of ' + str(observed_difference) + ' is far away from what we would expect under the null!')"
   ]
  },
  {
   "cell_type": "markdown",
   "id": "39622d2a-35d8-4255-83e5-af0a78388d95",
   "metadata": {},
   "source": [
    "_________"
   ]
  },
  {
   "cell_type": "code",
   "execution_count": 30,
   "id": "a9eebcec-8856-4b8c-b752-c79d0a939c3b",
   "metadata": {},
   "outputs": [
    {
     "data": {
      "text/plain": [
       "-9.266142572024918"
      ]
     },
     "execution_count": 30,
     "metadata": {},
     "output_type": "execute_result"
    }
   ],
   "source": [
    "observed_difference"
   ]
  },
  {
   "cell_type": "code",
   "execution_count": 31,
   "id": "256fed17-6f6a-4540-9608-9beb1eff7d92",
   "metadata": {},
   "outputs": [
    {
     "data": {
      "text/plain": [
       "array([ 0.7143867 ,  1.2438198 , -0.97049835, ..., -1.02057986,\n",
       "       -1.60367171,  0.80024072])"
      ]
     },
     "execution_count": 31,
     "metadata": {},
     "output_type": "execute_result"
    }
   ],
   "source": [
    "simulated_differences"
   ]
  },
  {
   "cell_type": "code",
   "execution_count": 41,
   "id": "24a0833a-b3c7-4bed-8b22-0250c65344f7",
   "metadata": {},
   "outputs": [
    {
     "data": {
      "text/plain": [
       "0.0"
      ]
     },
     "execution_count": 41,
     "metadata": {},
     "output_type": "execute_result"
    }
   ],
   "source": [
    "np.average(observed_difference >= simulated_differences)"
   ]
  }
 ],
 "metadata": {
  "kernelspec": {
   "display_name": "Python 3 (ipykernel)",
   "language": "python",
   "name": "python3"
  },
  "language_info": {
   "codemirror_mode": {
    "name": "ipython",
    "version": 3
   },
   "file_extension": ".py",
   "mimetype": "text/x-python",
   "name": "python",
   "nbconvert_exporter": "python",
   "pygments_lexer": "ipython3",
   "version": "3.12.4"
  }
 },
 "nbformat": 4,
 "nbformat_minor": 5
}
