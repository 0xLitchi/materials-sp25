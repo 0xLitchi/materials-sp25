{
 "cells": [
  {
   "cell_type": "code",
   "execution_count": 1,
   "id": "7ea79d99-a356-497f-b96c-8d05909d4536",
   "metadata": {},
   "outputs": [],
   "source": [
    "from datascience import *\n",
    "import numpy as np\n",
    "\n",
    "%matplotlib inline\n",
    "import matplotlib.pyplot as plots\n",
    "plots.style.use('fivethirtyeight')\n",
    "\n",
    "import warnings\n",
    "warnings.simplefilter(\"ignore\")"
   ]
  },
  {
   "cell_type": "markdown",
   "id": "2c0ab716-85d6-40ae-be29-447b197aee45",
   "metadata": {},
   "source": [
    "## New material"
   ]
  },
  {
   "cell_type": "markdown",
   "id": "74dd0c09-1de0-4e05-be45-b7181589daea",
   "metadata": {},
   "source": [
    "From your text:\n",
    "\n",
    "> [SF OpenData](https://datasf.org/opendata/) is a website where the City and County of San Francisco make some of their data publicly available. One of the data sets contains compensation data for employees of the City. These include medical professionals at City-run hospitals, police officers, fire fighters, transportation workers, elected officials, and all other employees of the City."
   ]
  },
  {
   "cell_type": "markdown",
   "id": "5657463e-78b6-4625-889a-432fa9d3580c",
   "metadata": {},
   "source": [
    "We will consider this dataset to be the **population** today for teaching purposes. In general, when using the inference method of today, you will not have the population: only a (random) sample from it."
   ]
  },
  {
   "cell_type": "code",
   "execution_count": 2,
   "id": "15781184-4e06-4562-a90d-6ef2cbaa055c",
   "metadata": {},
   "outputs": [],
   "source": [
    "population = Table.read_table('san_francisco_2019.csv')"
   ]
  },
  {
   "cell_type": "code",
   "execution_count": 3,
   "id": "ee0ebf07-df26-4e27-9ac2-82b627073aff",
   "metadata": {},
   "outputs": [
    {
     "data": {
      "text/plain": [
       "44525"
      ]
     },
     "execution_count": 3,
     "metadata": {},
     "output_type": "execute_result"
    }
   ],
   "source": [
    "population.num_rows"
   ]
  },
  {
   "cell_type": "code",
   "execution_count": 4,
   "id": "50ed31ca-0f13-4ade-bdbd-1b295a05df8b",
   "metadata": {},
   "outputs": [
    {
     "data": {
      "text/html": [
       "<table border=\"1\" class=\"dataframe\">\n",
       "    <thead>\n",
       "        <tr>\n",
       "            <th>Organization Group</th> <th>Department</th> <th>Job Family</th> <th>Job</th> <th>Salary</th> <th>Overtime</th> <th>Benefits</th> <th>Total Compensation</th>\n",
       "        </tr>\n",
       "    </thead>\n",
       "    <tbody>\n",
       "        <tr>\n",
       "            <td>Public Protection </td> <td>Adult Probation</td> <td>Information Systems</td> <td>IS Trainer-Journey           </td> <td>91332 </td> <td>0       </td> <td>40059   </td> <td>131391            </td>\n",
       "        </tr>\n",
       "        <tr>\n",
       "            <td>Public Protection </td> <td>Adult Probation</td> <td>Information Systems</td> <td>IS Engineer-Assistant        </td> <td>123241</td> <td>0       </td> <td>49279   </td> <td>172520            </td>\n",
       "        </tr>\n",
       "        <tr>\n",
       "            <td>Public Protection </td> <td>Adult Probation</td> <td>Information Systems</td> <td>IS Business Analyst-Senior   </td> <td>115715</td> <td>0       </td> <td>46752   </td> <td>162468            </td>\n",
       "        </tr>\n",
       "        <tr>\n",
       "            <td>Public Protection </td> <td>Adult Probation</td> <td>Information Systems</td> <td>IS Business Analyst-Principal</td> <td>159394</td> <td>0       </td> <td>57312   </td> <td>216706            </td>\n",
       "        </tr>\n",
       "        <tr>\n",
       "            <td>Public Protection </td> <td>Adult Probation</td> <td>Information Systems</td> <td>IS Programmer Analyst        </td> <td>70035 </td> <td>0       </td> <td>28671   </td> <td>98706             </td>\n",
       "        </tr>\n",
       "    </tbody>\n",
       "</table>\n",
       "<p>... (44520 rows omitted)</p>"
      ],
      "text/plain": [
       "<IPython.core.display.HTML object>"
      ]
     },
     "metadata": {},
     "output_type": "display_data"
    }
   ],
   "source": [
    "population.show(5)"
   ]
  },
  {
   "cell_type": "code",
   "execution_count": 5,
   "id": "e1cb7b19-858a-4364-a272-7d076f2a75b9",
   "metadata": {},
   "outputs": [
    {
     "data": {
      "text/html": [
       "<table border=\"1\" class=\"dataframe\">\n",
       "    <thead>\n",
       "        <tr>\n",
       "            <th>Organization Group</th> <th>Department</th> <th>Job Family</th> <th>Job</th> <th>Salary</th> <th>Overtime</th> <th>Benefits</th> <th>Total Compensation</th>\n",
       "        </tr>\n",
       "    </thead>\n",
       "    <tbody>\n",
       "        <tr>\n",
       "            <td>General Administration & Finance</td> <td>Retirement Services</td> <td>Administrative & Mgmt (Unrep)</td> <td>Chief Investment Officer    </td> <td>577633</td> <td>0       </td> <td>146398  </td> <td>724031            </td>\n",
       "        </tr>\n",
       "        <tr>\n",
       "            <td>General Administration & Finance</td> <td>Retirement Services</td> <td>Unassigned                   </td> <td>Managing Director           </td> <td>483072</td> <td>0       </td> <td>134879  </td> <td>617951            </td>\n",
       "        </tr>\n",
       "        <tr>\n",
       "            <td>General Administration & Finance</td> <td>Retirement Services</td> <td>Unassigned                   </td> <td>Managing Director           </td> <td>482649</td> <td>0       </td> <td>134905  </td> <td>617554            </td>\n",
       "        </tr>\n",
       "        <tr>\n",
       "            <td>General Administration & Finance</td> <td>Retirement Services</td> <td>Unassigned                   </td> <td>Managing Director           </td> <td>451507</td> <td>0       </td> <td>120276  </td> <td>571784            </td>\n",
       "        </tr>\n",
       "        <tr>\n",
       "            <td>General Administration & Finance</td> <td>Retirement Services</td> <td>Unassigned                   </td> <td>Managing Director           </td> <td>449378</td> <td>0       </td> <td>120857  </td> <td>570235            </td>\n",
       "        </tr>\n",
       "        <tr>\n",
       "            <td>Community Health                </td> <td>Public Health      </td> <td>Administrative & Mgmt (Unrep)</td> <td>Physician Administrator, DPH</td> <td>434966</td> <td>0       </td> <td>119213  </td> <td>554179            </td>\n",
       "        </tr>\n",
       "        <tr>\n",
       "            <td>Public Protection               </td> <td>Sheriff            </td> <td>Correction & Detention       </td> <td>Senior Deputy Sheriff       </td> <td>152153</td> <td>315896  </td> <td>77275   </td> <td>545324            </td>\n",
       "        </tr>\n",
       "        <tr>\n",
       "            <td>General Administration & Finance</td> <td>Retirement Services</td> <td>Management                   </td> <td>Director                    </td> <td>397392</td> <td>0       </td> <td>108913  </td> <td>506305            </td>\n",
       "        </tr>\n",
       "        <tr>\n",
       "            <td>Community Health                </td> <td>Public Health      </td> <td>Medical & Dental             </td> <td>Supervising Physician Spec  </td> <td>404701</td> <td>0       </td> <td>99480   </td> <td>504181            </td>\n",
       "        </tr>\n",
       "        <tr>\n",
       "            <td>Community Health                </td> <td>Public Health      </td> <td>Medical & Dental             </td> <td>Senior Physician Specialist </td> <td>400992</td> <td>0       </td> <td>97428   </td> <td>498421            </td>\n",
       "        </tr>\n",
       "    </tbody>\n",
       "</table>\n",
       "<p>... (44515 rows omitted)</p>"
      ],
      "text/plain": [
       "Organization Group               | Department          | Job Family                    | Job                          | Salary | Overtime | Benefits | Total Compensation\n",
       "General Administration & Finance | Retirement Services | Administrative & Mgmt (Unrep) | Chief Investment Officer     | 577633 | 0        | 146398   | 724031\n",
       "General Administration & Finance | Retirement Services | Unassigned                    | Managing Director            | 483072 | 0        | 134879   | 617951\n",
       "General Administration & Finance | Retirement Services | Unassigned                    | Managing Director            | 482649 | 0        | 134905   | 617554\n",
       "General Administration & Finance | Retirement Services | Unassigned                    | Managing Director            | 451507 | 0        | 120276   | 571784\n",
       "General Administration & Finance | Retirement Services | Unassigned                    | Managing Director            | 449378 | 0        | 120857   | 570235\n",
       "Community Health                 | Public Health       | Administrative & Mgmt (Unrep) | Physician Administrator, DPH | 434966 | 0        | 119213   | 554179\n",
       "Public Protection                | Sheriff             | Correction & Detention        | Senior Deputy Sheriff        | 152153 | 315896   | 77275    | 545324\n",
       "General Administration & Finance | Retirement Services | Management                    | Director                     | 397392 | 0        | 108913   | 506305\n",
       "Community Health                 | Public Health       | Medical & Dental              | Supervising Physician Spec   | 404701 | 0        | 99480    | 504181\n",
       "Community Health                 | Public Health       | Medical & Dental              | Senior Physician Specialist  | 400992 | 0        | 97428    | 498421\n",
       "... (44515 rows omitted)"
      ]
     },
     "execution_count": 5,
     "metadata": {},
     "output_type": "execute_result"
    }
   ],
   "source": [
    "population.sort('Total Compensation', descending=True)"
   ]
  }
 ],
 "metadata": {
  "kernelspec": {
   "display_name": "Python 3 (ipykernel)",
   "language": "python",
   "name": "python3"
  },
  "language_info": {
   "codemirror_mode": {
    "name": "ipython",
    "version": 3
   },
   "file_extension": ".py",
   "mimetype": "text/x-python",
   "name": "python",
   "nbconvert_exporter": "python",
   "pygments_lexer": "ipython3",
   "version": "3.12.4"
  }
 },
 "nbformat": 4,
 "nbformat_minor": 5
}
