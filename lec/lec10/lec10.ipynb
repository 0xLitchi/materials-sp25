{
 "cells": [
  {
   "cell_type": "code",
   "execution_count": 1,
   "id": "d9553382-f8c7-4a61-bd9c-8fe287983e8e",
   "metadata": {},
   "outputs": [],
   "source": [
    "from datascience import *\n",
    "import numpy as np\n",
    "\n",
    "%matplotlib inline\n",
    "import matplotlib.pyplot as plots\n",
    "plots.style.use('fivethirtyeight')\n",
    "import warnings\n",
    "warnings.simplefilter(action='ignore',category=np.VisibleDeprecationWarning)"
   ]
  },
  {
   "cell_type": "markdown",
   "id": "11607002-6181-4a55-bd25-9adb8e9d7a6d",
   "metadata": {},
   "source": [
    "## Review\n",
    "\n",
    "- conducted on https://polleverywhere.com/jeremysanchez"
   ]
  },
  {
   "cell_type": "markdown",
   "id": "f1d1e391-69ee-43e2-b20e-eee25c926811",
   "metadata": {},
   "source": [
    "## New material"
   ]
  },
  {
   "cell_type": "markdown",
   "id": "2ea5711f-040a-46ca-9905-c57df582aae8",
   "metadata": {},
   "source": [
    "### One-column groups"
   ]
  },
  {
   "cell_type": "code",
   "execution_count": 2,
   "id": "8fc1ea34-1c38-41c2-8096-ab1d612f3eef",
   "metadata": {},
   "outputs": [],
   "source": [
    "cones = Table.read_table('cones.csv')\n",
    "cones_without_color = cones.drop('Color') "
   ]
  },
  {
   "cell_type": "code",
   "execution_count": 3,
   "id": "6239ad87-942e-482a-92be-c393dfbe241f",
   "metadata": {},
   "outputs": [
    {
     "data": {
      "text/html": [
       "<table border=\"1\" class=\"dataframe\">\n",
       "    <thead>\n",
       "        <tr>\n",
       "            <th>Flavor</th> <th>Price</th>\n",
       "        </tr>\n",
       "    </thead>\n",
       "    <tbody>\n",
       "        <tr>\n",
       "            <td>strawberry</td> <td>3.55 </td>\n",
       "        </tr>\n",
       "        <tr>\n",
       "            <td>chocolate </td> <td>4.75 </td>\n",
       "        </tr>\n",
       "        <tr>\n",
       "            <td>chocolate </td> <td>5.25 </td>\n",
       "        </tr>\n",
       "        <tr>\n",
       "            <td>strawberry</td> <td>5.25 </td>\n",
       "        </tr>\n",
       "        <tr>\n",
       "            <td>chocolate </td> <td>5.25 </td>\n",
       "        </tr>\n",
       "        <tr>\n",
       "            <td>bubblegum </td> <td>4.75 </td>\n",
       "        </tr>\n",
       "    </tbody>\n",
       "</table>"
      ],
      "text/plain": [
       "Flavor     | Price\n",
       "strawberry | 3.55\n",
       "chocolate  | 4.75\n",
       "chocolate  | 5.25\n",
       "strawberry | 5.25\n",
       "chocolate  | 5.25\n",
       "bubblegum  | 4.75"
      ]
     },
     "execution_count": 3,
     "metadata": {},
     "output_type": "execute_result"
    }
   ],
   "source": [
    "cones_without_color"
   ]
  },
  {
   "cell_type": "code",
   "execution_count": 4,
   "id": "410e4ab2-99d3-4e96-b2bd-b510d6ebeea7",
   "metadata": {},
   "outputs": [
    {
     "data": {
      "text/html": [
       "<table border=\"1\" class=\"dataframe\">\n",
       "    <thead>\n",
       "        <tr>\n",
       "            <th>Flavor</th> <th>Price</th>\n",
       "        </tr>\n",
       "    </thead>\n",
       "    <tbody>\n",
       "        <tr>\n",
       "            <td>strawberry</td> <td>3.55 </td>\n",
       "        </tr>\n",
       "        <tr>\n",
       "            <td>chocolate </td> <td>4.75 </td>\n",
       "        </tr>\n",
       "        <tr>\n",
       "            <td>chocolate </td> <td>5.25 </td>\n",
       "        </tr>\n",
       "        <tr>\n",
       "            <td>strawberry</td> <td>5.25 </td>\n",
       "        </tr>\n",
       "        <tr>\n",
       "            <td>chocolate </td> <td>5.25 </td>\n",
       "        </tr>\n",
       "        <tr>\n",
       "            <td>bubblegum </td> <td>4.75 </td>\n",
       "        </tr>\n",
       "    </tbody>\n",
       "</table>"
      ],
      "text/plain": [
       "Flavor     | Price\n",
       "strawberry | 3.55\n",
       "chocolate  | 4.75\n",
       "chocolate  | 5.25\n",
       "strawberry | 5.25\n",
       "chocolate  | 5.25\n",
       "bubblegum  | 4.75"
      ]
     },
     "execution_count": 4,
     "metadata": {},
     "output_type": "execute_result"
    }
   ],
   "source": [
    "cones_without_color"
   ]
  },
  {
   "cell_type": "code",
   "execution_count": 5,
   "id": "34b8583d-5506-41af-b736-81560bc33cce",
   "metadata": {},
   "outputs": [
    {
     "data": {
      "text/html": [
       "<table border=\"1\" class=\"dataframe\">\n",
       "    <thead>\n",
       "        <tr>\n",
       "            <th>Flavor</th> <th>Price average</th>\n",
       "        </tr>\n",
       "    </thead>\n",
       "    <tbody>\n",
       "        <tr>\n",
       "            <td>bubblegum </td> <td>4.75         </td>\n",
       "        </tr>\n",
       "        <tr>\n",
       "            <td>chocolate </td> <td>5.08333      </td>\n",
       "        </tr>\n",
       "        <tr>\n",
       "            <td>strawberry</td> <td>4.4          </td>\n",
       "        </tr>\n",
       "    </tbody>\n",
       "</table>"
      ],
      "text/plain": [
       "Flavor     | Price average\n",
       "bubblegum  | 4.75\n",
       "chocolate  | 5.08333\n",
       "strawberry | 4.4"
      ]
     },
     "execution_count": 5,
     "metadata": {},
     "output_type": "execute_result"
    }
   ],
   "source": [
    "cones_without_color.group('Flavor', np.average)"
   ]
  },
  {
   "cell_type": "markdown",
   "id": "1a5ec44e-c578-44ed-af5a-1a161212fc9d",
   "metadata": {},
   "source": [
    "### Two-column groups"
   ]
  },
  {
   "cell_type": "code",
   "execution_count": 6,
   "id": "dd5700e1-ea78-4253-8ba2-880152a76f75",
   "metadata": {},
   "outputs": [
    {
     "data": {
      "text/html": [
       "<table border=\"1\" class=\"dataframe\">\n",
       "    <thead>\n",
       "        <tr>\n",
       "            <th>Flavor</th> <th>Color</th> <th>Price</th>\n",
       "        </tr>\n",
       "    </thead>\n",
       "    <tbody>\n",
       "        <tr>\n",
       "            <td>strawberry</td> <td>pink       </td> <td>3.55 </td>\n",
       "        </tr>\n",
       "        <tr>\n",
       "            <td>chocolate </td> <td>light brown</td> <td>4.75 </td>\n",
       "        </tr>\n",
       "        <tr>\n",
       "            <td>chocolate </td> <td>dark brown </td> <td>5.25 </td>\n",
       "        </tr>\n",
       "        <tr>\n",
       "            <td>strawberry</td> <td>pink       </td> <td>5.25 </td>\n",
       "        </tr>\n",
       "        <tr>\n",
       "            <td>chocolate </td> <td>dark brown </td> <td>5.25 </td>\n",
       "        </tr>\n",
       "        <tr>\n",
       "            <td>bubblegum </td> <td>pink       </td> <td>4.75 </td>\n",
       "        </tr>\n",
       "    </tbody>\n",
       "</table>"
      ],
      "text/plain": [
       "Flavor     | Color       | Price\n",
       "strawberry | pink        | 3.55\n",
       "chocolate  | light brown | 4.75\n",
       "chocolate  | dark brown  | 5.25\n",
       "strawberry | pink        | 5.25\n",
       "chocolate  | dark brown  | 5.25\n",
       "bubblegum  | pink        | 4.75"
      ]
     },
     "execution_count": 6,
     "metadata": {},
     "output_type": "execute_result"
    }
   ],
   "source": [
    "cones"
   ]
  },
  {
   "cell_type": "code",
   "execution_count": 7,
   "id": "c37d2afa-8717-4a7f-859a-1a10037e35cc",
   "metadata": {},
   "outputs": [
    {
     "data": {
      "text/html": [
       "<table border=\"1\" class=\"dataframe\">\n",
       "    <thead>\n",
       "        <tr>\n",
       "            <th>Flavor</th> <th>Color</th> <th>Price average</th>\n",
       "        </tr>\n",
       "    </thead>\n",
       "    <tbody>\n",
       "        <tr>\n",
       "            <td>bubblegum </td> <td>pink       </td> <td>4.75         </td>\n",
       "        </tr>\n",
       "        <tr>\n",
       "            <td>chocolate </td> <td>dark brown </td> <td>5.25         </td>\n",
       "        </tr>\n",
       "        <tr>\n",
       "            <td>chocolate </td> <td>light brown</td> <td>4.75         </td>\n",
       "        </tr>\n",
       "        <tr>\n",
       "            <td>strawberry</td> <td>pink       </td> <td>4.4          </td>\n",
       "        </tr>\n",
       "    </tbody>\n",
       "</table>"
      ],
      "text/plain": [
       "Flavor     | Color       | Price average\n",
       "bubblegum  | pink        | 4.75\n",
       "chocolate  | dark brown  | 5.25\n",
       "chocolate  | light brown | 4.75\n",
       "strawberry | pink        | 4.4"
      ]
     },
     "execution_count": 7,
     "metadata": {},
     "output_type": "execute_result"
    }
   ],
   "source": [
    "cones.group(['Flavor','Color'],np.average)"
   ]
  },
  {
   "cell_type": "code",
   "execution_count": 8,
   "id": "046222cf-8f8d-41e5-af30-e3840e57b98c",
   "metadata": {},
   "outputs": [
    {
     "data": {
      "text/html": [
       "<table border=\"1\" class=\"dataframe\">\n",
       "    <thead>\n",
       "        <tr>\n",
       "            <th>Flavor</th> <th>Color</th> <th>Price min</th>\n",
       "        </tr>\n",
       "    </thead>\n",
       "    <tbody>\n",
       "        <tr>\n",
       "            <td>bubblegum </td> <td>pink       </td> <td>4.75     </td>\n",
       "        </tr>\n",
       "        <tr>\n",
       "            <td>chocolate </td> <td>dark brown </td> <td>5.25     </td>\n",
       "        </tr>\n",
       "        <tr>\n",
       "            <td>chocolate </td> <td>light brown</td> <td>4.75     </td>\n",
       "        </tr>\n",
       "        <tr>\n",
       "            <td>strawberry</td> <td>pink       </td> <td>3.55     </td>\n",
       "        </tr>\n",
       "    </tbody>\n",
       "</table>"
      ],
      "text/plain": [
       "Flavor     | Color       | Price min\n",
       "bubblegum  | pink        | 4.75\n",
       "chocolate  | dark brown  | 5.25\n",
       "chocolate  | light brown | 4.75\n",
       "strawberry | pink        | 3.55"
      ]
     },
     "execution_count": 8,
     "metadata": {},
     "output_type": "execute_result"
    }
   ],
   "source": [
    "cones.group(['Flavor','Color'], min)"
   ]
  },
  {
   "cell_type": "markdown",
   "id": "88b4fe20-f1d0-4a56-b5ba-75f723fe2759",
   "metadata": {},
   "source": [
    "### We can make our own collect functions!"
   ]
  },
  {
   "cell_type": "code",
   "execution_count": 9,
   "id": "36941151-b104-49d7-be5f-e13071332041",
   "metadata": {},
   "outputs": [
    {
     "data": {
      "text/html": [
       "<table border=\"1\" class=\"dataframe\">\n",
       "    <thead>\n",
       "        <tr>\n",
       "            <th>rank</th> <th>name</th> <th>position</th> <th>team</th> <th>salary</th> <th>season</th>\n",
       "        </tr>\n",
       "    </thead>\n",
       "    <tbody>\n",
       "        <tr>\n",
       "            <td>1   </td> <td>Shaquille O'Neal</td> <td>C       </td> <td>Los Angeles Lakers    </td> <td>17142000</td> <td>2000  </td>\n",
       "        </tr>\n",
       "        <tr>\n",
       "            <td>2   </td> <td>Kevin Garnett   </td> <td>PF      </td> <td>Minnesota Timberwolves</td> <td>16806000</td> <td>2000  </td>\n",
       "        </tr>\n",
       "        <tr>\n",
       "            <td>3   </td> <td>Alonzo Mourning </td> <td>C       </td> <td>Miami Heat            </td> <td>15004000</td> <td>2000  </td>\n",
       "        </tr>\n",
       "        <tr>\n",
       "            <td>4   </td> <td>Juwan Howard    </td> <td>PF      </td> <td>Washington Wizards    </td> <td>15000000</td> <td>2000  </td>\n",
       "        </tr>\n",
       "        <tr>\n",
       "            <td>5   </td> <td>Scottie Pippen  </td> <td>SF      </td> <td>Portland Trail Blazers</td> <td>14795000</td> <td>2000  </td>\n",
       "        </tr>\n",
       "        <tr>\n",
       "            <td>6   </td> <td>Karl Malone     </td> <td>PF      </td> <td>Utah Jazz             </td> <td>14000000</td> <td>2000  </td>\n",
       "        </tr>\n",
       "    </tbody>\n",
       "</table>\n",
       "<p>... (9450 rows omitted)</p>"
      ],
      "text/plain": [
       "<IPython.core.display.HTML object>"
      ]
     },
     "metadata": {},
     "output_type": "display_data"
    }
   ],
   "source": [
    "nba = Table.read_table(\"nba_salaries.csv\")\n",
    "nba.show(6)"
   ]
  },
  {
   "cell_type": "markdown",
   "id": "7b3bd217-290d-4131-8c6c-84832dd84f18",
   "metadata": {},
   "source": [
    "**Task/Discussion Question**: Write a function called `average_in_millions` which:\n",
    "- finds the average of a set of numbers\n",
    "- divides this average by 1 million."
   ]
  },
  {
   "cell_type": "code",
   "execution_count": null,
   "id": "9c9fdca3-1ec3-4b91-870f-8d5bc578fdb7",
   "metadata": {},
   "outputs": [],
   "source": []
  },
  {
   "cell_type": "markdown",
   "id": "f06a4789-df0e-42bd-b475-087adda69ac1",
   "metadata": {},
   "source": [
    "**Task/Discussion Question**: There are 30 NBA teams. How many rows and how many columns will the table be that is produced by the following code [code given in lecture]?"
   ]
  },
  {
   "cell_type": "code",
   "execution_count": null,
   "id": "0f7c6128-9b83-4f62-8e8d-e74881554b04",
   "metadata": {},
   "outputs": [],
   "source": []
  },
  {
   "cell_type": "markdown",
   "id": "ed62a1ab-293e-4c3b-8d05-9a6730897e6f",
   "metadata": {},
   "source": [
    "____"
   ]
  },
  {
   "cell_type": "markdown",
   "id": "b6609347-a059-48fe-8bf4-5bd07dddd376",
   "metadata": {},
   "source": [
    "#### **Challenge Task (`nba` dataset)**: Find the five teams paying the highest average salary (in millions) in 2010.\n",
    "- Your results should be in the form of a table with 5 rows and 2 columns:\n",
    "    - One column should have the team name\n",
    "    - The other column should have the average salary for that team, in millions.\n",
    "- Challenge: Try to only use `Table.select()` or `Table.drop()` *once* in your solution. "
   ]
  },
  {
   "cell_type": "code",
   "execution_count": 15,
   "id": "279e9145-023c-4449-b691-80c45cab08c8",
   "metadata": {},
   "outputs": [],
   "source": []
  },
  {
   "cell_type": "code",
   "execution_count": 18,
   "id": "9e11ded0-e163-473f-8bc6-f8f7abb06bfd",
   "metadata": {},
   "outputs": [
    {
     "data": {
      "text/html": [
       "<table border=\"1\" class=\"dataframe\">\n",
       "    <thead>\n",
       "        <tr>\n",
       "            <th>team</th> <th>salary average</th>\n",
       "        </tr>\n",
       "    </thead>\n",
       "    <tbody>\n",
       "        <tr>\n",
       "            <td>Dallas Mavericks   </td> <td>7.10886e+06   </td>\n",
       "        </tr>\n",
       "        <tr>\n",
       "            <td>Brooklyn Nets      </td> <td>7.1e+06       </td>\n",
       "        </tr>\n",
       "        <tr>\n",
       "            <td>Los Angeles Lakers </td> <td>6.57696e+06   </td>\n",
       "        </tr>\n",
       "        <tr>\n",
       "            <td>Orlando Magic      </td> <td>6.31238e+06   </td>\n",
       "        </tr>\n",
       "        <tr>\n",
       "            <td>New Orleans Hornets</td> <td>6.15382e+06   </td>\n",
       "        </tr>\n",
       "    </tbody>\n",
       "</table>"
      ],
      "text/plain": [
       "team                | salary average\n",
       "Dallas Mavericks    | 7.10886e+06\n",
       "Brooklyn Nets       | 7.1e+06\n",
       "Los Angeles Lakers  | 6.57696e+06\n",
       "Orlando Magic       | 6.31238e+06\n",
       "New Orleans Hornets | 6.15382e+06"
      ]
     },
     "execution_count": 18,
     "metadata": {},
     "output_type": "execute_result"
    }
   ],
   "source": []
  },
  {
   "cell_type": "markdown",
   "id": "b456dacc-d07b-4569-b47c-24088041b1d8",
   "metadata": {},
   "source": [
    "#### **Challenge Task (`nba` dataset)** Find the $n$ teams paying the highest average salary (in millions) in season $y$.\n",
    "- In other words, write code that will produce the table you made above, but for any given $n$ and $y$."
   ]
  },
  {
   "cell_type": "markdown",
   "id": "f69b97f0-6b60-4c10-aa0c-b0dd027e344f",
   "metadata": {},
   "source": [
    "Note that in this solution, we are calling the function `average_in_millions` inside of our `highest_paying_teams` function!!!"
   ]
  },
  {
   "cell_type": "code",
   "execution_count": 23,
   "id": "529d6942-6fb6-42b9-bec9-04b16b585d3a",
   "metadata": {},
   "outputs": [],
   "source": []
  },
  {
   "cell_type": "code",
   "execution_count": 24,
   "id": "2b22e786-f158-4c49-adf4-3b170767b991",
   "metadata": {},
   "outputs": [
    {
     "data": {
      "text/html": [
       "<table border=\"1\" class=\"dataframe\">\n",
       "    <thead>\n",
       "        <tr>\n",
       "            <th>team</th> <th>salary average_in_millions</th>\n",
       "        </tr>\n",
       "    </thead>\n",
       "    <tbody>\n",
       "        <tr>\n",
       "            <td>Cleveland Cavaliers  </td> <td>6.9503                    </td>\n",
       "        </tr>\n",
       "        <tr>\n",
       "            <td>Oklahoma City Thunder</td> <td>5.70945                   </td>\n",
       "        </tr>\n",
       "        <tr>\n",
       "            <td>Golden State Warriors</td> <td>5.61352                   </td>\n",
       "        </tr>\n",
       "    </tbody>\n",
       "</table>"
      ],
      "text/plain": [
       "team                  | salary average_in_millions\n",
       "Cleveland Cavaliers   | 6.9503\n",
       "Oklahoma City Thunder | 5.70945\n",
       "Golden State Warriors | 5.61352"
      ]
     },
     "execution_count": 24,
     "metadata": {},
     "output_type": "execute_result"
    }
   ],
   "source": []
  }
 ],
 "metadata": {
  "kernelspec": {
   "display_name": "Python 3 (ipykernel)",
   "language": "python",
   "name": "python3"
  },
  "language_info": {
   "codemirror_mode": {
    "name": "ipython",
    "version": 3
   },
   "file_extension": ".py",
   "mimetype": "text/x-python",
   "name": "python",
   "nbconvert_exporter": "python",
   "pygments_lexer": "ipython3",
   "version": "3.12.4"
  }
 },
 "nbformat": 4,
 "nbformat_minor": 5
}
