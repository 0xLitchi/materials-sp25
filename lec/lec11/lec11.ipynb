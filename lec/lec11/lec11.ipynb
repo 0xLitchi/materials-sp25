{
 "cells": [
  {
   "cell_type": "code",
   "execution_count": 5,
   "id": "08127e1d-7315-4e6d-9ec3-18af92bbd631",
   "metadata": {},
   "outputs": [],
   "source": [
    "from datascience import *\n",
    "import numpy as np\n",
    "\n",
    "%matplotlib inline\n",
    "import matplotlib.pyplot as plots\n",
    "plots.style.use('fivethirtyeight')\n",
    "import warnings\n",
    "warnings.simplefilter(action='ignore',category=np.VisibleDeprecationWarning)"
   ]
  },
  {
   "cell_type": "markdown",
   "id": "d71cf964-b13e-4b65-bff4-d9c5b4d6845d",
   "metadata": {},
   "source": [
    "## Review (grouping)\n",
    "\n",
    "- conducted at https://pollev.com/jeremysanchez"
   ]
  },
  {
   "cell_type": "code",
   "execution_count": 6,
   "id": "c4c21057-c546-4bb1-ba24-2a7900b0dcaf",
   "metadata": {},
   "outputs": [
    {
     "data": {
      "text/html": [
       "<table border=\"1\" class=\"dataframe\">\n",
       "    <thead>\n",
       "        <tr>\n",
       "            <th>rank</th> <th>name</th> <th>position</th> <th>team</th> <th>salary</th> <th>season</th>\n",
       "        </tr>\n",
       "    </thead>\n",
       "    <tbody>\n",
       "        <tr>\n",
       "            <td>1   </td> <td>Shaquille O'Neal</td> <td>C       </td> <td>Los Angeles Lakers    </td> <td>17142000</td> <td>2000  </td>\n",
       "        </tr>\n",
       "        <tr>\n",
       "            <td>2   </td> <td>Kevin Garnett   </td> <td>PF      </td> <td>Minnesota Timberwolves</td> <td>16806000</td> <td>2000  </td>\n",
       "        </tr>\n",
       "        <tr>\n",
       "            <td>3   </td> <td>Alonzo Mourning </td> <td>C       </td> <td>Miami Heat            </td> <td>15004000</td> <td>2000  </td>\n",
       "        </tr>\n",
       "        <tr>\n",
       "            <td>4   </td> <td>Juwan Howard    </td> <td>PF      </td> <td>Washington Wizards    </td> <td>15000000</td> <td>2000  </td>\n",
       "        </tr>\n",
       "        <tr>\n",
       "            <td>5   </td> <td>Scottie Pippen  </td> <td>SF      </td> <td>Portland Trail Blazers</td> <td>14795000</td> <td>2000  </td>\n",
       "        </tr>\n",
       "        <tr>\n",
       "            <td>6   </td> <td>Karl Malone     </td> <td>PF      </td> <td>Utah Jazz             </td> <td>14000000</td> <td>2000  </td>\n",
       "        </tr>\n",
       "        <tr>\n",
       "            <td>7   </td> <td>Larry Johnson   </td> <td>F       </td> <td>New York Knicks       </td> <td>11910000</td> <td>2000  </td>\n",
       "        </tr>\n",
       "        <tr>\n",
       "            <td>8   </td> <td>Gary Payton     </td> <td>PG      </td> <td>Seattle SuperSonics   </td> <td>11020000</td> <td>2000  </td>\n",
       "        </tr>\n",
       "        <tr>\n",
       "            <td>9   </td> <td>Rasheed Wallace </td> <td>PF      </td> <td>Portland Trail Blazers</td> <td>10800000</td> <td>2000  </td>\n",
       "        </tr>\n",
       "        <tr>\n",
       "            <td>10  </td> <td>Shawn Kemp      </td> <td>C       </td> <td>Cleveland Cavaliers   </td> <td>10780000</td> <td>2000  </td>\n",
       "        </tr>\n",
       "    </tbody>\n",
       "</table>\n",
       "<p>... (9446 rows omitted)</p>"
      ],
      "text/plain": [
       "rank | name             | position | team                   | salary   | season\n",
       "1    | Shaquille O'Neal | C        | Los Angeles Lakers     | 17142000 | 2000\n",
       "2    | Kevin Garnett    | PF       | Minnesota Timberwolves | 16806000 | 2000\n",
       "3    | Alonzo Mourning  | C        | Miami Heat             | 15004000 | 2000\n",
       "4    | Juwan Howard     | PF       | Washington Wizards     | 15000000 | 2000\n",
       "5    | Scottie Pippen   | SF       | Portland Trail Blazers | 14795000 | 2000\n",
       "6    | Karl Malone      | PF       | Utah Jazz              | 14000000 | 2000\n",
       "7    | Larry Johnson    | F        | New York Knicks        | 11910000 | 2000\n",
       "8    | Gary Payton      | PG       | Seattle SuperSonics    | 11020000 | 2000\n",
       "9    | Rasheed Wallace  | PF       | Portland Trail Blazers | 10800000 | 2000\n",
       "10   | Shawn Kemp       | C        | Cleveland Cavaliers    | 10780000 | 2000\n",
       "... (9446 rows omitted)"
      ]
     },
     "execution_count": 6,
     "metadata": {},
     "output_type": "execute_result"
    }
   ],
   "source": [
    "nba_salaries = Table.read_table('nba_salaries.csv')\n",
    "nba_salaries"
   ]
  },
  {
   "cell_type": "code",
   "execution_count": 7,
   "id": "42a0d520-f10d-46d8-9eff-1bbe8a2c30c1",
   "metadata": {},
   "outputs": [
    {
     "data": {
      "text/html": [
       "<table border=\"1\" class=\"dataframe\">\n",
       "    <thead>\n",
       "        <tr>\n",
       "            <th>rank</th> <th>name</th> <th>position</th> <th>team</th> <th>salary</th> <th>season</th>\n",
       "        </tr>\n",
       "    </thead>\n",
       "    <tbody>\n",
       "        <tr>\n",
       "            <td>1   </td> <td>Stephen Curry    </td> <td>PG      </td> <td>Golden State Warriors</td> <td>40231758</td> <td>2020  </td>\n",
       "        </tr>\n",
       "        <tr>\n",
       "            <td>2   </td> <td>Chris Paul       </td> <td>PG      </td> <td>Oklahoma City Thunder</td> <td>38506482</td> <td>2020  </td>\n",
       "        </tr>\n",
       "        <tr>\n",
       "            <td>3   </td> <td>Russell Westbrook</td> <td>PG      </td> <td>Houston Rockets      </td> <td>38506482</td> <td>2020  </td>\n",
       "        </tr>\n",
       "        <tr>\n",
       "            <td>4   </td> <td>John Wall        </td> <td>PG      </td> <td>Washington Wizards   </td> <td>38199000</td> <td>2020  </td>\n",
       "        </tr>\n",
       "        <tr>\n",
       "            <td>5   </td> <td>Kevin Durant     </td> <td>SF      </td> <td>Brooklyn Nets        </td> <td>38199000</td> <td>2020  </td>\n",
       "        </tr>\n",
       "        <tr>\n",
       "            <td>6   </td> <td>James Harden     </td> <td>SG      </td> <td>Houston Rockets      </td> <td>38199000</td> <td>2020  </td>\n",
       "        </tr>\n",
       "        <tr>\n",
       "            <td>7   </td> <td>LeBron James     </td> <td>SF      </td> <td>Los Angeles Lakers   </td> <td>37436858</td> <td>2020  </td>\n",
       "        </tr>\n",
       "        <tr>\n",
       "            <td>8   </td> <td>Kyle Lowry       </td> <td>PG      </td> <td>Toronto Raptors      </td> <td>34996296</td> <td>2020  </td>\n",
       "        </tr>\n",
       "        <tr>\n",
       "            <td>9   </td> <td>Blake Griffin    </td> <td>PF      </td> <td>Detroit Pistons      </td> <td>34449964</td> <td>2020  </td>\n",
       "        </tr>\n",
       "        <tr>\n",
       "            <td>10  </td> <td>Tobias Harris    </td> <td>SF      </td> <td>Philadelphia 76ers   </td> <td>32742000</td> <td>2020  </td>\n",
       "        </tr>\n",
       "    </tbody>\n",
       "</table>\n",
       "<p>... (518 rows omitted)</p>"
      ],
      "text/plain": [
       "rank | name              | position | team                  | salary   | season\n",
       "1    | Stephen Curry     | PG       | Golden State Warriors | 40231758 | 2020\n",
       "2    | Chris Paul        | PG       | Oklahoma City Thunder | 38506482 | 2020\n",
       "3    | Russell Westbrook | PG       | Houston Rockets       | 38506482 | 2020\n",
       "4    | John Wall         | PG       | Washington Wizards    | 38199000 | 2020\n",
       "5    | Kevin Durant      | SF       | Brooklyn Nets         | 38199000 | 2020\n",
       "6    | James Harden      | SG       | Houston Rockets       | 38199000 | 2020\n",
       "7    | LeBron James      | SF       | Los Angeles Lakers    | 37436858 | 2020\n",
       "8    | Kyle Lowry        | PG       | Toronto Raptors       | 34996296 | 2020\n",
       "9    | Blake Griffin     | PF       | Detroit Pistons       | 34449964 | 2020\n",
       "10   | Tobias Harris     | SF       | Philadelphia 76ers    | 32742000 | 2020\n",
       "... (518 rows omitted)"
      ]
     },
     "execution_count": 7,
     "metadata": {},
     "output_type": "execute_result"
    }
   ],
   "source": [
    "nba_2020 = nba_salaries.where('season', 2020)\n",
    "nba_2020"
   ]
  },
  {
   "cell_type": "code",
   "execution_count": 22,
   "id": "0eaaadf3-b327-4feb-bc04-9000e42a425a",
   "metadata": {},
   "outputs": [
    {
     "data": {
      "text/html": [
       "<table border=\"1\" class=\"dataframe\">\n",
       "    <thead>\n",
       "        <tr>\n",
       "            <th>position</th> <th>rank average</th> <th>name average</th> <th>team average</th> <th>salary average</th> <th>season average</th>\n",
       "        </tr>\n",
       "    </thead>\n",
       "    <tbody>\n",
       "        <tr>\n",
       "            <td>PG      </td> <td>230.585     </td> <td>            </td> <td>            </td> <td>9.44018e+06   </td> <td>2020          </td>\n",
       "        </tr>\n",
       "        <tr>\n",
       "            <td>C       </td> <td>226.145     </td> <td>            </td> <td>            </td> <td>8.51344e+06   </td> <td>2020          </td>\n",
       "        </tr>\n",
       "        <tr>\n",
       "            <td>SF      </td> <td>262.809     </td> <td>            </td> <td>            </td> <td>7.67178e+06   </td> <td>2020          </td>\n",
       "        </tr>\n",
       "        <tr>\n",
       "            <td>PF      </td> <td>259.933     </td> <td>            </td> <td>            </td> <td>7.13819e+06   </td> <td>2020          </td>\n",
       "        </tr>\n",
       "        <tr>\n",
       "            <td>SG      </td> <td>278.148     </td> <td>            </td> <td>            </td> <td>6.64896e+06   </td> <td>2020          </td>\n",
       "        </tr>\n",
       "        <tr>\n",
       "            <td>F       </td> <td>305.4       </td> <td>            </td> <td>            </td> <td>4.55763e+06   </td> <td>2020          </td>\n",
       "        </tr>\n",
       "        <tr>\n",
       "            <td>G       </td> <td>371         </td> <td>            </td> <td>            </td> <td>2.84069e+06   </td> <td>2020          </td>\n",
       "        </tr>\n",
       "    </tbody>\n",
       "</table>"
      ],
      "text/plain": [
       "position | rank average | name average | team average | salary average | season average\n",
       "PG       | 230.585      |              |              | 9.44018e+06    | 2020\n",
       "C        | 226.145      |              |              | 8.51344e+06    | 2020\n",
       "SF       | 262.809      |              |              | 7.67178e+06    | 2020\n",
       "PF       | 259.933      |              |              | 7.13819e+06    | 2020\n",
       "SG       | 278.148      |              |              | 6.64896e+06    | 2020\n",
       "F        | 305.4        |              |              | 4.55763e+06    | 2020\n",
       "G        | 371          |              |              | 2.84069e+06    | 2020"
      ]
     },
     "execution_count": 22,
     "metadata": {},
     "output_type": "execute_result"
    }
   ],
   "source": [
    "nba_2020.group('position',np.average).sort('salary average', descending=True)"
   ]
  },
  {
   "cell_type": "code",
   "execution_count": null,
   "id": "e3c72084-b451-42fd-8246-6b0b3a9283c0",
   "metadata": {},
   "outputs": [],
   "source": []
  },
  {
   "cell_type": "markdown",
   "id": "45eeaae4-739a-4949-a006-63768280e3fc",
   "metadata": {},
   "source": [
    "## New material"
   ]
  },
  {
   "cell_type": "markdown",
   "id": "0d52c916-f8e7-49f0-bbc0-68b3ef54ede7",
   "metadata": {},
   "source": [
    "### Cross-classify with **two-group columns**"
   ]
  },
  {
   "cell_type": "code",
   "execution_count": 23,
   "id": "e905e69a-32d8-4cc9-a55b-88a71b800538",
   "metadata": {},
   "outputs": [
    {
     "data": {
      "text/html": [
       "<table border=\"1\" class=\"dataframe\">\n",
       "    <thead>\n",
       "        <tr>\n",
       "            <th>Flavor</th> <th>Color</th> <th>Price</th>\n",
       "        </tr>\n",
       "    </thead>\n",
       "    <tbody>\n",
       "        <tr>\n",
       "            <td>strawberry</td> <td>pink       </td> <td>3.55 </td>\n",
       "        </tr>\n",
       "        <tr>\n",
       "            <td>chocolate </td> <td>light brown</td> <td>4.75 </td>\n",
       "        </tr>\n",
       "        <tr>\n",
       "            <td>chocolate </td> <td>dark brown </td> <td>5.25 </td>\n",
       "        </tr>\n",
       "        <tr>\n",
       "            <td>strawberry</td> <td>pink       </td> <td>5.25 </td>\n",
       "        </tr>\n",
       "        <tr>\n",
       "            <td>chocolate </td> <td>dark brown </td> <td>5.25 </td>\n",
       "        </tr>\n",
       "        <tr>\n",
       "            <td>bubblegum </td> <td>pink       </td> <td>4.75 </td>\n",
       "        </tr>\n",
       "    </tbody>\n",
       "</table>"
      ],
      "text/plain": [
       "Flavor     | Color       | Price\n",
       "strawberry | pink        | 3.55\n",
       "chocolate  | light brown | 4.75\n",
       "chocolate  | dark brown  | 5.25\n",
       "strawberry | pink        | 5.25\n",
       "chocolate  | dark brown  | 5.25\n",
       "bubblegum  | pink        | 4.75"
      ]
     },
     "execution_count": 23,
     "metadata": {},
     "output_type": "execute_result"
    }
   ],
   "source": [
    "cones = Table.read_table(\"cones.csv\")\n",
    "cones"
   ]
  },
  {
   "cell_type": "code",
   "execution_count": 24,
   "id": "8e3a98d8-8705-43bc-999c-99111af7db93",
   "metadata": {},
   "outputs": [
    {
     "data": {
      "text/html": [
       "<table border=\"1\" class=\"dataframe\">\n",
       "    <thead>\n",
       "        <tr>\n",
       "            <th>Flavor</th> <th>Color</th> <th>count</th>\n",
       "        </tr>\n",
       "    </thead>\n",
       "    <tbody>\n",
       "        <tr>\n",
       "            <td>bubblegum </td> <td>pink       </td> <td>1    </td>\n",
       "        </tr>\n",
       "        <tr>\n",
       "            <td>chocolate </td> <td>dark brown </td> <td>2    </td>\n",
       "        </tr>\n",
       "        <tr>\n",
       "            <td>chocolate </td> <td>light brown</td> <td>1    </td>\n",
       "        </tr>\n",
       "        <tr>\n",
       "            <td>strawberry</td> <td>pink       </td> <td>2    </td>\n",
       "        </tr>\n",
       "    </tbody>\n",
       "</table>"
      ],
      "text/plain": [
       "Flavor     | Color       | count\n",
       "bubblegum  | pink        | 1\n",
       "chocolate  | dark brown  | 2\n",
       "chocolate  | light brown | 1\n",
       "strawberry | pink        | 2"
      ]
     },
     "execution_count": 24,
     "metadata": {},
     "output_type": "execute_result"
    }
   ],
   "source": [
    "cones.group(['Flavor','Color'])"
   ]
  },
  {
   "cell_type": "code",
   "execution_count": 25,
   "id": "5eea4263-0279-4192-bf91-22c40b9a883f",
   "metadata": {},
   "outputs": [
    {
     "data": {
      "text/html": [
       "<table border=\"1\" class=\"dataframe\">\n",
       "    <thead>\n",
       "        <tr>\n",
       "            <th>Flavor</th> <th>Color</th> <th>Price average</th>\n",
       "        </tr>\n",
       "    </thead>\n",
       "    <tbody>\n",
       "        <tr>\n",
       "            <td>bubblegum </td> <td>pink       </td> <td>4.75         </td>\n",
       "        </tr>\n",
       "        <tr>\n",
       "            <td>chocolate </td> <td>dark brown </td> <td>5.25         </td>\n",
       "        </tr>\n",
       "        <tr>\n",
       "            <td>chocolate </td> <td>light brown</td> <td>4.75         </td>\n",
       "        </tr>\n",
       "        <tr>\n",
       "            <td>strawberry</td> <td>pink       </td> <td>4.4          </td>\n",
       "        </tr>\n",
       "    </tbody>\n",
       "</table>"
      ],
      "text/plain": [
       "Flavor     | Color       | Price average\n",
       "bubblegum  | pink        | 4.75\n",
       "chocolate  | dark brown  | 5.25\n",
       "chocolate  | light brown | 4.75\n",
       "strawberry | pink        | 4.4"
      ]
     },
     "execution_count": 25,
     "metadata": {},
     "output_type": "execute_result"
    }
   ],
   "source": [
    "cones.group(['Flavor','Color'], np.average)"
   ]
  },
  {
   "cell_type": "markdown",
   "id": "a63ef660-9d0a-4842-8aab-3cae3f57ad2d",
   "metadata": {},
   "source": [
    "### Cross-classify with **pivoting**"
   ]
  },
  {
   "cell_type": "code",
   "execution_count": 26,
   "id": "c0bfaa57-fdf6-4a1b-b8f8-f9be1c920306",
   "metadata": {},
   "outputs": [
    {
     "data": {
      "text/html": [
       "<table border=\"1\" class=\"dataframe\">\n",
       "    <thead>\n",
       "        <tr>\n",
       "            <th>Color</th> <th>bubblegum</th> <th>chocolate</th> <th>strawberry</th>\n",
       "        </tr>\n",
       "    </thead>\n",
       "    <tbody>\n",
       "        <tr>\n",
       "            <td>dark brown </td> <td>0        </td> <td>2        </td> <td>0         </td>\n",
       "        </tr>\n",
       "        <tr>\n",
       "            <td>light brown</td> <td>0        </td> <td>1        </td> <td>0         </td>\n",
       "        </tr>\n",
       "        <tr>\n",
       "            <td>pink       </td> <td>1        </td> <td>0        </td> <td>2         </td>\n",
       "        </tr>\n",
       "    </tbody>\n",
       "</table>"
      ],
      "text/plain": [
       "Color       | bubblegum | chocolate | strawberry\n",
       "dark brown  | 0         | 2         | 0\n",
       "light brown | 0         | 1         | 0\n",
       "pink        | 1         | 0         | 2"
      ]
     },
     "execution_count": 26,
     "metadata": {},
     "output_type": "execute_result"
    }
   ],
   "source": [
    "cones.pivot('Flavor','Color')"
   ]
  },
  {
   "cell_type": "code",
   "execution_count": 27,
   "id": "1eb83718-3f47-4ac1-942a-41df7df19785",
   "metadata": {},
   "outputs": [
    {
     "data": {
      "text/html": [
       "<table border=\"1\" class=\"dataframe\">\n",
       "    <thead>\n",
       "        <tr>\n",
       "            <th>Color</th> <th>bubblegum</th> <th>chocolate</th> <th>strawberry</th>\n",
       "        </tr>\n",
       "    </thead>\n",
       "    <tbody>\n",
       "        <tr>\n",
       "            <td>dark brown </td> <td>0        </td> <td>5.25     </td> <td>0         </td>\n",
       "        </tr>\n",
       "        <tr>\n",
       "            <td>light brown</td> <td>0        </td> <td>4.75     </td> <td>0         </td>\n",
       "        </tr>\n",
       "        <tr>\n",
       "            <td>pink       </td> <td>4.75     </td> <td>0        </td> <td>4.4       </td>\n",
       "        </tr>\n",
       "    </tbody>\n",
       "</table>"
      ],
      "text/plain": [
       "Color       | bubblegum | chocolate | strawberry\n",
       "dark brown  | 0         | 5.25      | 0\n",
       "light brown | 0         | 4.75      | 0\n",
       "pink        | 4.75      | 0         | 4.4"
      ]
     },
     "execution_count": 27,
     "metadata": {},
     "output_type": "execute_result"
    }
   ],
   "source": [
    "cones.pivot('Flavor','Color','Price',np.average)"
   ]
  },
  {
   "cell_type": "markdown",
   "id": "51540b16-b631-4b33-9f6f-b6b59b14e8ac",
   "metadata": {},
   "source": [
    "_______"
   ]
  },
  {
   "cell_type": "markdown",
   "id": "5c05d6ae-5900-42d1-ba6b-cf5022702388",
   "metadata": {},
   "source": [
    "### Know when to use grouping vs. pivoting!"
   ]
  },
  {
   "cell_type": "code",
   "execution_count": 28,
   "id": "0173024a-2aa3-46be-b2c5-0e336450a6da",
   "metadata": {},
   "outputs": [
    {
     "data": {
      "text/html": [
       "<table border=\"1\" class=\"dataframe\">\n",
       "    <thead>\n",
       "        <tr>\n",
       "            <th>name</th> <th>material</th> <th>city</th> <th>height</th> <th>completed</th>\n",
       "        </tr>\n",
       "    </thead>\n",
       "    <tbody>\n",
       "        <tr>\n",
       "            <td>One World Trade Center           </td> <td>mixed/composite</td> <td>New York City</td> <td>541.3 </td> <td>2014     </td>\n",
       "        </tr>\n",
       "        <tr>\n",
       "            <td>Willis Tower                     </td> <td>steel          </td> <td>Chicago      </td> <td>442.14</td> <td>1974     </td>\n",
       "        </tr>\n",
       "        <tr>\n",
       "            <td>432 Park Avenue                  </td> <td>concrete       </td> <td>New York City</td> <td>425.5 </td> <td>2015     </td>\n",
       "        </tr>\n",
       "        <tr>\n",
       "            <td>Trump International Hotel & Tower</td> <td>concrete       </td> <td>Chicago      </td> <td>423.22</td> <td>2009     </td>\n",
       "        </tr>\n",
       "        <tr>\n",
       "            <td>Empire State Building            </td> <td>steel          </td> <td>New York City</td> <td>381   </td> <td>1931     </td>\n",
       "        </tr>\n",
       "        <tr>\n",
       "            <td>Bank of America Tower            </td> <td>mixed/composite</td> <td>New York City</td> <td>365.8 </td> <td>2009     </td>\n",
       "        </tr>\n",
       "    </tbody>\n",
       "</table>\n",
       "<p>... (1775 rows omitted)</p>"
      ],
      "text/plain": [
       "<IPython.core.display.HTML object>"
      ]
     },
     "metadata": {},
     "output_type": "display_data"
    }
   ],
   "source": [
    "# https://corgis-edu.github.io/corgis/csv/skyscrapers/\n",
    "skyscrapers = Table.read_table('skyscrapers.csv')\n",
    "skyscrapers.show(6)"
   ]
  },
  {
   "cell_type": "markdown",
   "id": "48661050-a813-4055-a813-99eedb8a5676",
   "metadata": {},
   "source": [
    "#### **Task:** \n",
    "- For each city, find the tallest building per material, as of 2016."
   ]
  },
  {
   "cell_type": "code",
   "execution_count": 35,
   "id": "57873ba2-ce71-4c62-bc44-49e4ec543652",
   "metadata": {},
   "outputs": [
    {
     "data": {
      "text/html": [
       "<table border=\"1\" class=\"dataframe\">\n",
       "    <thead>\n",
       "        <tr>\n",
       "            <th>city</th> <th>material</th> <th>height max</th>\n",
       "        </tr>\n",
       "    </thead>\n",
       "    <tbody>\n",
       "        <tr>\n",
       "            <td>Atlanta  </td> <td>concrete       </td> <td>264.25    </td>\n",
       "        </tr>\n",
       "        <tr>\n",
       "            <td>Atlanta  </td> <td>mixed/composite</td> <td>311.8     </td>\n",
       "        </tr>\n",
       "        <tr>\n",
       "            <td>Atlanta  </td> <td>steel          </td> <td>169.47    </td>\n",
       "        </tr>\n",
       "        <tr>\n",
       "            <td>Austin   </td> <td>concrete       </td> <td>208.15    </td>\n",
       "        </tr>\n",
       "        <tr>\n",
       "            <td>Austin   </td> <td>steel          </td> <td>93.6      </td>\n",
       "        </tr>\n",
       "        <tr>\n",
       "            <td>Baltimore</td> <td>concrete       </td> <td>161.24    </td>\n",
       "        </tr>\n",
       "        <tr>\n",
       "            <td>Baltimore</td> <td>steel          </td> <td>155.15    </td>\n",
       "        </tr>\n",
       "        <tr>\n",
       "            <td>Boston   </td> <td>concrete       </td> <td>121.92    </td>\n",
       "        </tr>\n",
       "        <tr>\n",
       "            <td>Boston   </td> <td>mixed/composite</td> <td>139       </td>\n",
       "        </tr>\n",
       "        <tr>\n",
       "            <td>Boston   </td> <td>steel          </td> <td>240.79    </td>\n",
       "        </tr>\n",
       "    </tbody>\n",
       "</table>\n",
       "<p>... (81 rows omitted)</p>"
      ],
      "text/plain": [
       "city      | material        | height max\n",
       "Atlanta   | concrete        | 264.25\n",
       "Atlanta   | mixed/composite | 311.8\n",
       "Atlanta   | steel           | 169.47\n",
       "Austin    | concrete        | 208.15\n",
       "Austin    | steel           | 93.6\n",
       "Baltimore | concrete        | 161.24\n",
       "Baltimore | steel           | 155.15\n",
       "Boston    | concrete        | 121.92\n",
       "Boston    | mixed/composite | 139\n",
       "Boston    | steel           | 240.79\n",
       "... (81 rows omitted)"
      ]
     },
     "execution_count": 35,
     "metadata": {},
     "output_type": "execute_result"
    }
   ],
   "source": [
    "skyscrapers.select('material', 'city', \n",
    "                   'height').group(['city', 'material'], max)"
   ]
  },
  {
   "cell_type": "markdown",
   "id": "aad51872-da3f-4611-8e58-8d9ee3ca7667",
   "metadata": {},
   "source": [
    "#### **Task:** \n",
    "- For each city, find the height difference between the tallest steel building and the tallest concrete building."
   ]
  },
  {
   "cell_type": "code",
   "execution_count": 39,
   "id": "d2275b07-c524-4277-bdcd-65b34cda7c9b",
   "metadata": {},
   "outputs": [
    {
     "data": {
      "text/html": [
       "<table border=\"1\" class=\"dataframe\">\n",
       "    <thead>\n",
       "        <tr>\n",
       "            <th>city</th> <th>material</th> <th>height max</th>\n",
       "        </tr>\n",
       "    </thead>\n",
       "    <tbody>\n",
       "        <tr>\n",
       "            <td>Atlanta  </td> <td>concrete       </td> <td>264.25    </td>\n",
       "        </tr>\n",
       "        <tr>\n",
       "            <td>Atlanta  </td> <td>mixed/composite</td> <td>311.8     </td>\n",
       "        </tr>\n",
       "        <tr>\n",
       "            <td>Atlanta  </td> <td>steel          </td> <td>169.47    </td>\n",
       "        </tr>\n",
       "        <tr>\n",
       "            <td>Austin   </td> <td>concrete       </td> <td>208.15    </td>\n",
       "        </tr>\n",
       "        <tr>\n",
       "            <td>Austin   </td> <td>steel          </td> <td>93.6      </td>\n",
       "        </tr>\n",
       "        <tr>\n",
       "            <td>Baltimore</td> <td>concrete       </td> <td>161.24    </td>\n",
       "        </tr>\n",
       "        <tr>\n",
       "            <td>Baltimore</td> <td>steel          </td> <td>155.15    </td>\n",
       "        </tr>\n",
       "        <tr>\n",
       "            <td>Boston   </td> <td>concrete       </td> <td>121.92    </td>\n",
       "        </tr>\n",
       "        <tr>\n",
       "            <td>Boston   </td> <td>mixed/composite</td> <td>139       </td>\n",
       "        </tr>\n",
       "        <tr>\n",
       "            <td>Boston   </td> <td>steel          </td> <td>240.79    </td>\n",
       "        </tr>\n",
       "    </tbody>\n",
       "</table>\n",
       "<p>... (81 rows omitted)</p>"
      ],
      "text/plain": [
       "city      | material        | height max\n",
       "Atlanta   | concrete        | 264.25\n",
       "Atlanta   | mixed/composite | 311.8\n",
       "Atlanta   | steel           | 169.47\n",
       "Austin    | concrete        | 208.15\n",
       "Austin    | steel           | 93.6\n",
       "Baltimore | concrete        | 161.24\n",
       "Baltimore | steel           | 155.15\n",
       "Boston    | concrete        | 121.92\n",
       "Boston    | mixed/composite | 139\n",
       "Boston    | steel           | 240.79\n",
       "... (81 rows omitted)"
      ]
     },
     "execution_count": 39,
     "metadata": {},
     "output_type": "execute_result"
    }
   ],
   "source": [
    "skyscrapers.select('material', 'city', \n",
    "                   'height').group(['city', 'material'], max)"
   ]
  },
  {
   "cell_type": "code",
   "execution_count": 40,
   "id": "4166d77a-0c0b-4b86-a060-604c1eb957fc",
   "metadata": {},
   "outputs": [
    {
     "data": {
      "text/html": [
       "<table border=\"1\" class=\"dataframe\">\n",
       "    <thead>\n",
       "        <tr>\n",
       "            <th>city</th> <th>concrete</th> <th>mixed/composite</th> <th>steel</th>\n",
       "        </tr>\n",
       "    </thead>\n",
       "    <tbody>\n",
       "        <tr>\n",
       "            <td>Atlanta   </td> <td>264.25  </td> <td>311.8          </td> <td>169.47</td>\n",
       "        </tr>\n",
       "        <tr>\n",
       "            <td>Austin    </td> <td>208.15  </td> <td>0              </td> <td>93.6  </td>\n",
       "        </tr>\n",
       "        <tr>\n",
       "            <td>Baltimore </td> <td>161.24  </td> <td>0              </td> <td>155.15</td>\n",
       "        </tr>\n",
       "        <tr>\n",
       "            <td>Boston    </td> <td>121.92  </td> <td>139            </td> <td>240.79</td>\n",
       "        </tr>\n",
       "        <tr>\n",
       "            <td>Charlotte </td> <td>265.48  </td> <td>239.7          </td> <td>179.23</td>\n",
       "        </tr>\n",
       "        <tr>\n",
       "            <td>Chicago   </td> <td>423.22  </td> <td>306.94         </td> <td>442.14</td>\n",
       "        </tr>\n",
       "        <tr>\n",
       "            <td>Cincinnati</td> <td>125     </td> <td>202.69         </td> <td>175   </td>\n",
       "        </tr>\n",
       "        <tr>\n",
       "            <td>Cleveland </td> <td>125     </td> <td>288.65         </td> <td>215.8 </td>\n",
       "        </tr>\n",
       "        <tr>\n",
       "            <td>Columbus  </td> <td>79.25   </td> <td>0              </td> <td>169.3 </td>\n",
       "        </tr>\n",
       "        <tr>\n",
       "            <td>Dallas    </td> <td>176.48  </td> <td>280.72         </td> <td>270.06</td>\n",
       "        </tr>\n",
       "    </tbody>\n",
       "</table>\n",
       "<p>... (25 rows omitted)</p>"
      ],
      "text/plain": [
       "city       | concrete | mixed/composite | steel\n",
       "Atlanta    | 264.25   | 311.8           | 169.47\n",
       "Austin     | 208.15   | 0               | 93.6\n",
       "Baltimore  | 161.24   | 0               | 155.15\n",
       "Boston     | 121.92   | 139             | 240.79\n",
       "Charlotte  | 265.48   | 239.7           | 179.23\n",
       "Chicago    | 423.22   | 306.94          | 442.14\n",
       "Cincinnati | 125      | 202.69          | 175\n",
       "Cleveland  | 125      | 288.65          | 215.8\n",
       "Columbus   | 79.25    | 0               | 169.3\n",
       "Dallas     | 176.48   | 280.72          | 270.06\n",
       "... (25 rows omitted)"
      ]
     },
     "execution_count": 40,
     "metadata": {},
     "output_type": "execute_result"
    }
   ],
   "source": [
    "skyscrapers_pivoted = skyscrapers.pivot('material', 'city', \n",
    "                                        values='height', collect=max)\n",
    "skyscrapers_pivoted"
   ]
  },
  {
   "cell_type": "code",
   "execution_count": 42,
   "id": "e6d7c455-41e2-4027-bd52-d361d7fb5c1f",
   "metadata": {},
   "outputs": [],
   "source": [
    "skyscrapers_pivoted = skyscrapers_pivoted.with_column(\n",
    "    'difference', \n",
    "    abs(skyscrapers_pivoted.column('steel') - \n",
    "        skyscrapers_pivoted.column('concrete'))\n",
    ")"
   ]
  },
  {
   "cell_type": "code",
   "execution_count": 43,
   "id": "5d964125-a794-4f56-ae6f-89a70a388465",
   "metadata": {},
   "outputs": [
    {
     "data": {
      "text/html": [
       "<table border=\"1\" class=\"dataframe\">\n",
       "    <thead>\n",
       "        <tr>\n",
       "            <th>city</th> <th>concrete</th> <th>mixed/composite</th> <th>steel</th> <th>difference</th>\n",
       "        </tr>\n",
       "    </thead>\n",
       "    <tbody>\n",
       "        <tr>\n",
       "            <td>Atlanta   </td> <td>264.25  </td> <td>311.8          </td> <td>169.47</td> <td>94.78     </td>\n",
       "        </tr>\n",
       "        <tr>\n",
       "            <td>Austin    </td> <td>208.15  </td> <td>0              </td> <td>93.6  </td> <td>114.55    </td>\n",
       "        </tr>\n",
       "        <tr>\n",
       "            <td>Baltimore </td> <td>161.24  </td> <td>0              </td> <td>155.15</td> <td>6.09001   </td>\n",
       "        </tr>\n",
       "        <tr>\n",
       "            <td>Boston    </td> <td>121.92  </td> <td>139            </td> <td>240.79</td> <td>118.87    </td>\n",
       "        </tr>\n",
       "        <tr>\n",
       "            <td>Charlotte </td> <td>265.48  </td> <td>239.7          </td> <td>179.23</td> <td>86.25     </td>\n",
       "        </tr>\n",
       "        <tr>\n",
       "            <td>Chicago   </td> <td>423.22  </td> <td>306.94         </td> <td>442.14</td> <td>18.92     </td>\n",
       "        </tr>\n",
       "        <tr>\n",
       "            <td>Cincinnati</td> <td>125     </td> <td>202.69         </td> <td>175   </td> <td>50        </td>\n",
       "        </tr>\n",
       "        <tr>\n",
       "            <td>Cleveland </td> <td>125     </td> <td>288.65         </td> <td>215.8 </td> <td>90.8      </td>\n",
       "        </tr>\n",
       "        <tr>\n",
       "            <td>Columbus  </td> <td>79.25   </td> <td>0              </td> <td>169.3 </td> <td>90.05     </td>\n",
       "        </tr>\n",
       "        <tr>\n",
       "            <td>Dallas    </td> <td>176.48  </td> <td>280.72         </td> <td>270.06</td> <td>93.58     </td>\n",
       "        </tr>\n",
       "    </tbody>\n",
       "</table>\n",
       "<p>... (25 rows omitted)</p>"
      ],
      "text/plain": [
       "city       | concrete | mixed/composite | steel  | difference\n",
       "Atlanta    | 264.25   | 311.8           | 169.47 | 94.78\n",
       "Austin     | 208.15   | 0               | 93.6   | 114.55\n",
       "Baltimore  | 161.24   | 0               | 155.15 | 6.09001\n",
       "Boston     | 121.92   | 139             | 240.79 | 118.87\n",
       "Charlotte  | 265.48   | 239.7           | 179.23 | 86.25\n",
       "Chicago    | 423.22   | 306.94          | 442.14 | 18.92\n",
       "Cincinnati | 125      | 202.69          | 175    | 50\n",
       "Cleveland  | 125      | 288.65          | 215.8  | 90.8\n",
       "Columbus   | 79.25    | 0               | 169.3  | 90.05\n",
       "Dallas     | 176.48   | 280.72          | 270.06 | 93.58\n",
       "... (25 rows omitted)"
      ]
     },
     "execution_count": 43,
     "metadata": {},
     "output_type": "execute_result"
    }
   ],
   "source": [
    "skyscrapers_pivoted"
   ]
  },
  {
   "cell_type": "code",
   "execution_count": 44,
   "id": "cf0ae371-fbb1-4154-9e40-794ca698c664",
   "metadata": {},
   "outputs": [
    {
     "data": {
      "text/html": [
       "<table border=\"1\" class=\"dataframe\">\n",
       "    <thead>\n",
       "        <tr>\n",
       "            <th>city</th> <th>concrete</th> <th>mixed/composite</th> <th>steel</th> <th>difference</th>\n",
       "        </tr>\n",
       "    </thead>\n",
       "    <tbody>\n",
       "        <tr>\n",
       "            <td>Sunny Isles Beach</td> <td>196     </td> <td>0              </td> <td>0     </td> <td>196       </td>\n",
       "        </tr>\n",
       "        <tr>\n",
       "            <td>Las Vegas        </td> <td>350.22  </td> <td>195.68         </td> <td>164.6 </td> <td>185.62    </td>\n",
       "        </tr>\n",
       "        <tr>\n",
       "            <td>Miami Beach      </td> <td>170.39  </td> <td>0              </td> <td>0     </td> <td>170.39    </td>\n",
       "        </tr>\n",
       "        <tr>\n",
       "            <td>Pittsburgh       </td> <td>89.3    </td> <td>172            </td> <td>256.34</td> <td>167.04    </td>\n",
       "        </tr>\n",
       "        <tr>\n",
       "            <td>Los Angeles      </td> <td>145.7   </td> <td>118.26         </td> <td>310.29</td> <td>164.59    </td>\n",
       "        </tr>\n",
       "        <tr>\n",
       "            <td>Philadelphia     </td> <td>157.89  </td> <td>296.73         </td> <td>288.04</td> <td>130.15    </td>\n",
       "        </tr>\n",
       "        <tr>\n",
       "            <td>Boston           </td> <td>121.92  </td> <td>139            </td> <td>240.79</td> <td>118.87    </td>\n",
       "        </tr>\n",
       "        <tr>\n",
       "            <td>Austin           </td> <td>208.15  </td> <td>0              </td> <td>93.6  </td> <td>114.55    </td>\n",
       "        </tr>\n",
       "        <tr>\n",
       "            <td>Seattle          </td> <td>138.69  </td> <td>284.38         </td> <td>235.31</td> <td>96.62     </td>\n",
       "        </tr>\n",
       "        <tr>\n",
       "            <td>Atlanta          </td> <td>264.25  </td> <td>311.8          </td> <td>169.47</td> <td>94.78     </td>\n",
       "        </tr>\n",
       "    </tbody>\n",
       "</table>\n",
       "<p>... (25 rows omitted)</p>"
      ],
      "text/plain": [
       "city              | concrete | mixed/composite | steel  | difference\n",
       "Sunny Isles Beach | 196      | 0               | 0      | 196\n",
       "Las Vegas         | 350.22   | 195.68          | 164.6  | 185.62\n",
       "Miami Beach       | 170.39   | 0               | 0      | 170.39\n",
       "Pittsburgh        | 89.3     | 172             | 256.34 | 167.04\n",
       "Los Angeles       | 145.7    | 118.26          | 310.29 | 164.59\n",
       "Philadelphia      | 157.89   | 296.73          | 288.04 | 130.15\n",
       "Boston            | 121.92   | 139             | 240.79 | 118.87\n",
       "Austin            | 208.15   | 0               | 93.6   | 114.55\n",
       "Seattle           | 138.69   | 284.38          | 235.31 | 96.62\n",
       "Atlanta           | 264.25   | 311.8           | 169.47 | 94.78\n",
       "... (25 rows omitted)"
      ]
     },
     "execution_count": 44,
     "metadata": {},
     "output_type": "execute_result"
    }
   ],
   "source": [
    "skyscrapers_pivoted.sort('difference', descending=True)"
   ]
  },
  {
   "cell_type": "markdown",
   "id": "b42df690-4639-4e22-9660-bea8148ef510",
   "metadata": {},
   "source": [
    "**Discussion Question**: I would like to make a visualization of the distribution of material types of buildings among each of San Francisco, New York and Chicago. Which cross-classification method is best for this? \n",
    "- *Hint:* Which cross classification method produces a table which can be used to create the plot?"
   ]
  },
  {
   "cell_type": "markdown",
   "id": "c5bca585-3357-4ed4-9062-35787f493477",
   "metadata": {},
   "source": [
    "_______"
   ]
  },
  {
   "cell_type": "markdown",
   "id": "a144681a-c773-4f09-8b2e-93596ce9de87",
   "metadata": {},
   "source": [
    "### Combine information in different tables via **joining**"
   ]
  },
  {
   "cell_type": "code",
   "execution_count": null,
   "id": "1f356f60-6427-46df-b14e-9a7b5471a248",
   "metadata": {},
   "outputs": [],
   "source": [
    "drinks = Table().with_columns(\"Drink\", make_array('Milk Tea', 'Espresso', 'Latte','Espresso'),\n",
    "                              \"Cafe\", make_array('Asha','Strada','Strada','FSM'),\n",
    "                              \"Price\", make_array(5.5,1.75,3.25,2))\n",
    "drinks"
   ]
  },
  {
   "cell_type": "code",
   "execution_count": null,
   "id": "630a00e7-f630-48ba-844d-72be10054822",
   "metadata": {},
   "outputs": [],
   "source": [
    "discounts = Table().with_columns(\"Coupon\", make_array('10%','25%','5%'),\n",
    "                                \"Location\",make_array('Asha','Strada','Asha'))\n",
    "discounts"
   ]
  },
  {
   "cell_type": "code",
   "execution_count": null,
   "id": "41d7278e-0364-4789-851e-2726894d16fe",
   "metadata": {},
   "outputs": [],
   "source": [
    "drinks.join('Cafe',discounts,'Location')"
   ]
  },
  {
   "cell_type": "code",
   "execution_count": null,
   "id": "4eefaecf-27f8-4707-86ec-104c04e68e3c",
   "metadata": {},
   "outputs": [],
   "source": [
    "discounts.join('Location',drinks,'Cafe')"
   ]
  }
 ],
 "metadata": {
  "kernelspec": {
   "display_name": "Python 3 (ipykernel)",
   "language": "python",
   "name": "python3"
  },
  "language_info": {
   "codemirror_mode": {
    "name": "ipython",
    "version": 3
   },
   "file_extension": ".py",
   "mimetype": "text/x-python",
   "name": "python",
   "nbconvert_exporter": "python",
   "pygments_lexer": "ipython3",
   "version": "3.12.4"
  }
 },
 "nbformat": 4,
 "nbformat_minor": 5
}
